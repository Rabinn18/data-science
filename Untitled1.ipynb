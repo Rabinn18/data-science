{
 "cells": [
  {
   "cell_type": "markdown",
   "id": "38cb022f",
   "metadata": {},
   "source": [
    "# types of loops\n",
    "i) for loops\n",
    "ii) while loops"
   ]
  },
  {
   "cell_type": "code",
   "execution_count": 7,
   "id": "c47926bb",
   "metadata": {},
   "outputs": [],
   "source": [
    "a_list =[1,3,5]"
   ]
  },
  {
   "cell_type": "code",
   "execution_count": 14,
   "id": "31a8b982",
   "metadata": {},
   "outputs": [
    {
     "name": "stdout",
     "output_type": "stream",
     "text": [
      "0\n",
      "2\n",
      "4\n"
     ]
    }
   ],
   "source": [
    "for value in a_list:\n",
    "    print(value-1)\n",
    "    "
   ]
  },
  {
   "cell_type": "code",
   "execution_count": 30,
   "id": "1ba5c487",
   "metadata": {},
   "outputs": [
    {
     "name": "stdout",
     "output_type": "stream",
     "text": [
      "['rabin', 'male', 16, 77]\n",
      "['prabin', 'male', 26, 75]\n",
      "['sabin', 'male', 36, 79]\n",
      "['nabin', 'male', 46, 73]\n",
      "31.0\n"
     ]
    }
   ],
   "source": [
    "student_1 = ['rabin', 'male', 16, 77]\n",
    "student_2 = ['prabin', 'male', 26, 75]\n",
    "student_3 = ['sabin', 'male', 36, 79]\n",
    "student_4 = ['nabin', 'male', 46, 73]\n",
    "student_5 = ['nabin', 'male', 46, 83]\n",
    "student_6 = ['nabin', 'male', 46, 53]\n",
    "student_7 = ['nabin', 'male', 46, 63]\n",
    "student_8 = ['nabin', 'male', 46, 78]\n",
    "student_9 = ['nabin', 'male', 46, 65]\n",
    "s= [student_1, student_2, student_3, student_4]\n",
    "total = 0\n",
    "length = 0\n",
    "for student in s:\n",
    "    print (student)\n",
    "    score = student[-2]\n",
    "    total += score\n",
    "    length += 1\n",
    "avg_age = total/length\n",
    "print(avg_age)"
   ]
  },
  {
   "cell_type": "code",
   "execution_count": 43,
   "id": "522c4ba6",
   "metadata": {},
   "outputs": [
    {
     "name": "stdout",
     "output_type": "stream",
     "text": [
      "['rabin', 'male', 16, 77]\n",
      "['prabin', 'male', 26, 75]\n",
      "['sabin', 'male', 36, 79]\n",
      "['nabin', 'male', 46, 73]\n",
      "['nabin', 'male', 46, 83]\n",
      "['nabin', 'male', 46, 53]\n",
      "['nabin', 'male', 46, 63]\n",
      "['nabin', 'male', 46, 78]\n",
      "['nabin', 'male', 46, 65]\n",
      "646\n"
     ]
    }
   ],
   "source": [
    "####taking total of 7 students\n",
    "total = 0\n",
    "length = 0\n",
    "s7= [student_1, student_2, student_3, student_4, student_5, student_6, student_7, student_8, student_9]\n",
    "for student in s7:\n",
    "    score = student[-1]\n",
    "    print (student)\n",
    "    total += score\n",
    "    length == 1\n",
    "    if length ==7:\n",
    "        break\n",
    "print (total)"
   ]
  },
  {
   "cell_type": "code",
   "execution_count": 54,
   "id": "2a535b0d",
   "metadata": {},
   "outputs": [
    {
     "name": "stdout",
     "output_type": "stream",
     "text": [
      "[1, 4, 9, 16, 25]\n"
     ]
    }
   ],
   "source": [
    "num = [1,2,3,4,5]\n",
    "# for sq in num:\n",
    "#     tsq = sq*sq\n",
    "#     print(tsq)\n",
    "tsql = []\n",
    "for i  in num:\n",
    "    tsql.append(i**2)\n",
    "print (tsql)"
   ]
  },
  {
   "cell_type": "markdown",
   "id": "54fe35d2",
   "metadata": {},
   "source": [
    "# use range to populate the square of even numbers upto 20 in new list"
   ]
  },
  {
   "cell_type": "code",
   "execution_count": 55,
   "id": "a12ee85e",
   "metadata": {},
   "outputs": [
    {
     "name": "stdout",
     "output_type": "stream",
     "text": [
      "2\n"
     ]
    }
   ],
   "source": [
    "for i in range(0,5,2):\n",
    "    if i ==2 :\n",
    "        print(i)"
   ]
  },
  {
   "cell_type": "code",
   "execution_count": 61,
   "id": "b8dd4881",
   "metadata": {},
   "outputs": [
    {
     "name": "stdout",
     "output_type": "stream",
     "text": [
      "0\n",
      "1\n",
      "2\n",
      "3\n",
      "4\n",
      "5\n",
      "6\n",
      "7\n",
      "8\n",
      "9\n",
      "10\n",
      "11\n",
      "12\n",
      "13\n",
      "14\n",
      "15\n",
      "16\n",
      "17\n",
      "18\n",
      "19\n",
      "[0, 4, 16, 36, 64, 100, 144, 196, 256, 324]\n"
     ]
    }
   ],
   "source": [
    "leven = []\n",
    "for i in range(0,20):\n",
    "    print (i)\n",
    "    if i%2 == 0:\n",
    "        leven.append(i**2)\n",
    "print (leven)"
   ]
  },
  {
   "cell_type": "code",
   "execution_count": 62,
   "id": "7e5a195d",
   "metadata": {},
   "outputs": [],
   "source": [
    "b= [12,14,13,15,21,16,18,20]\n",
    "a= [value + 1 for value in b if value%2==1]"
   ]
  },
  {
   "cell_type": "code",
   "execution_count": 63,
   "id": "9157cb62",
   "metadata": {},
   "outputs": [
    {
     "name": "stdout",
     "output_type": "stream",
     "text": [
      "[14, 16, 22]\n"
     ]
    }
   ],
   "source": [
    "print (a)"
   ]
  },
  {
   "cell_type": "code",
   "execution_count": 72,
   "id": "00f9c74a",
   "metadata": {},
   "outputs": [
    {
     "data": {
      "text/plain": [
       "dict_values(['rabin', 22, 'devinagar', 'bachelor'])"
      ]
     },
     "execution_count": 72,
     "metadata": {},
     "output_type": "execute_result"
    }
   ],
   "source": [
    "dict1 = {\"name\": \"rabin\", \"age\": 22, \"location\": \"devinagar\", \"level\":\"bachelor\"}\n",
    "dict1.values()\n"
   ]
  },
  {
   "cell_type": "code",
   "execution_count": 73,
   "id": "b817096f",
   "metadata": {},
   "outputs": [],
   "source": [
    "tuple1 = (1,2,3,4,5)"
   ]
  },
  {
   "cell_type": "code",
   "execution_count": 74,
   "id": "b40d8bb8",
   "metadata": {},
   "outputs": [
    {
     "name": "stdout",
     "output_type": "stream",
     "text": [
      "1\n",
      "2\n",
      "3\n",
      "4\n",
      "5\n"
     ]
    }
   ],
   "source": [
    "for item in tuple1:\n",
    "    print(item)"
   ]
  },
  {
   "cell_type": "code",
   "execution_count": 76,
   "id": "99386ca0",
   "metadata": {},
   "outputs": [
    {
     "name": "stdout",
     "output_type": "stream",
     "text": [
      "[1, 2, 3, 4, 5]\n"
     ]
    }
   ],
   "source": [
    "tuple_to_list = list(tuple1)\n",
    "print (tuple_to_list)"
   ]
  },
  {
   "cell_type": "code",
   "execution_count": 77,
   "id": "9db4ca58",
   "metadata": {},
   "outputs": [],
   "source": [
    "tuple_to_list[-1] = 6\n",
    "list_to_tuple = tuple(tuple_to_list)"
   ]
  },
  {
   "cell_type": "code",
   "execution_count": 78,
   "id": "d26c1d59",
   "metadata": {},
   "outputs": [
    {
     "name": "stdout",
     "output_type": "stream",
     "text": [
      "(1, 2, 3, 4, 6)\n"
     ]
    }
   ],
   "source": [
    "print(list_to_tuple)"
   ]
  },
  {
   "cell_type": "code",
   "execution_count": 79,
   "id": "634499af",
   "metadata": {},
   "outputs": [
    {
     "name": "stdout",
     "output_type": "stream",
     "text": [
      "(1, 2, 3, 4, 5, 9, 10, 11, 12)\n"
     ]
    }
   ],
   "source": [
    "for i in range(9,13):\n",
    "    tuple1 = tuple1 + (i,)\n",
    "print(tuple1)\n"
   ]
  },
  {
   "cell_type": "markdown",
   "id": "4d73f3cd",
   "metadata": {},
   "source": [
    "# Conditional Statements"
   ]
  },
  {
   "cell_type": "code",
   "execution_count": 59,
   "id": "4a09fbf2",
   "metadata": {},
   "outputs": [],
   "source": [
    "student_1 = ['rabin', 'male','CSIT',7, 16, 77]\n",
    "student_2 = ['prabin', 'male','BCA',5, 26, 75]\n",
    "student_3 = ['sabin', 'male','CSIT',6, 36, 79]\n",
    "student_4 = ['nabin', 'male','BCA',7, 26, 73]\n",
    "student_5 = ['nabina', 'female','CSIT',7, 22, 83]\n",
    "student_6 = ['nabina', 'female','BIM',5, 15, 53]\n",
    "student_7 = ['nabina', 'female','CSIT',4, 46, 63]\n",
    "student_8 = ['nabin', 'male','BIM', 23,6, 78]\n",
    "student_9 = ['nabin', 'male','BCA', 21,4, 65]"
   ]
  },
  {
   "cell_type": "code",
   "execution_count": 8,
   "id": "c93806b3",
   "metadata": {},
   "outputs": [],
   "source": [
    "sSets= [student_1, student_2, student_3, student_4, student_5, student_6, student_7, student_8, student_9]"
   ]
  },
  {
   "cell_type": "markdown",
   "id": "2a971dc3",
   "metadata": {},
   "source": [
    "find number of male students"
   ]
  },
  {
   "cell_type": "code",
   "execution_count": 9,
   "id": "dd6a0d42",
   "metadata": {},
   "outputs": [
    {
     "name": "stdout",
     "output_type": "stream",
     "text": [
      "6\n"
     ]
    }
   ],
   "source": [
    "mCount = 0\n",
    "for male in sSets:\n",
    "    if male[1] == 'male':\n",
    "        mCount += 1\n",
    "print (mCount)\n",
    "    "
   ]
  },
  {
   "cell_type": "markdown",
   "id": "9a8ee5e9",
   "metadata": {},
   "source": [
    "# find number of students whose age is greater than or equal to 22"
   ]
  },
  {
   "cell_type": "code",
   "execution_count": 10,
   "id": "a6af8920",
   "metadata": {},
   "outputs": [
    {
     "name": "stdout",
     "output_type": "stream",
     "text": [
      "6\n"
     ]
    }
   ],
   "source": [
    "nAge = 0\n",
    "for stds in sSets:\n",
    "    if stds[-2] >= 22:\n",
    "        nAge += 1\n",
    "print(nAge)"
   ]
  },
  {
   "cell_type": "markdown",
   "id": "1f4cafac",
   "metadata": {},
   "source": [
    "use of shorthand if statement"
   ]
  },
  {
   "cell_type": "code",
   "execution_count": 11,
   "id": "f151a458",
   "metadata": {},
   "outputs": [],
   "source": [
    "a= 5\n",
    "b=6"
   ]
  },
  {
   "cell_type": "code",
   "execution_count": 12,
   "id": "8632902e",
   "metadata": {},
   "outputs": [],
   "source": [
    "x =10 if a>b else 11"
   ]
  },
  {
   "cell_type": "code",
   "execution_count": 13,
   "id": "567b043c",
   "metadata": {},
   "outputs": [
    {
     "name": "stdout",
     "output_type": "stream",
     "text": [
      "11\n"
     ]
    }
   ],
   "source": [
    "print (x)"
   ]
  },
  {
   "cell_type": "code",
   "execution_count": null,
   "id": "c274cf17",
   "metadata": {},
   "outputs": [],
   "source": []
  },
  {
   "cell_type": "code",
   "execution_count": 15,
   "id": "7e1c8561",
   "metadata": {},
   "outputs": [
    {
     "name": "stdout",
     "output_type": "stream",
     "text": [
      "sky is blue\n"
     ]
    }
   ],
   "source": [
    "if (5 >= 3):\n",
    "    print(\"sky is blue\")\n",
    "if (2+2 == 5):\n",
    "    print(\"sky is violet\")\n",
    "if (7/5 == 2):\n",
    "    print(\"sky is green\")"
   ]
  },
  {
   "cell_type": "code",
   "execution_count": 40,
   "id": "025de249",
   "metadata": {},
   "outputs": [
    {
     "ename": "SyntaxError",
     "evalue": "invalid syntax (3726056192.py, line 1)",
     "output_type": "error",
     "traceback": [
      "\u001b[1;36m  File \u001b[1;32m\"C:\\Users\\rabin\\AppData\\Local\\Temp\\ipykernel_14056\\3726056192.py\"\u001b[1;36m, line \u001b[1;32m1\u001b[0m\n\u001b[1;33m    print(\"sky\") if (5 >= 3) elif (2+2 == 5) print(\"saroj\") else print(\"rabin\")\u001b[0m\n\u001b[1;37m                             ^\u001b[0m\n\u001b[1;31mSyntaxError\u001b[0m\u001b[1;31m:\u001b[0m invalid syntax\n"
     ]
    }
   ],
   "source": [
    " print(\"sky\") if (5 >= 3) elif (2+2 == 5) print(\"saroj\") else print(\"rabin\")"
   ]
  },
  {
   "cell_type": "markdown",
   "id": "dbe54718",
   "metadata": {},
   "source": [
    "counting male and female number"
   ]
  },
  {
   "cell_type": "code",
   "execution_count": 66,
   "id": "bba538c0",
   "metadata": {},
   "outputs": [
    {
     "name": "stdout",
     "output_type": "stream",
     "text": [
      "male count: 6\n",
      "female count: 3\n"
     ]
    }
   ],
   "source": [
    "mCount = 0\n",
    "fCount = 0\n",
    "for male in sSets:\n",
    "    if male[1] == 'male':\n",
    "        mCount += 1\n",
    "    else:\n",
    "        fCount += 1\n",
    "print (\"male count:\",str(mCount))\n",
    "print (\"female count:\",str(fCount)) "
   ]
  },
  {
   "cell_type": "markdown",
   "id": "0541e88b",
   "metadata": {},
   "source": [
    "counting both less than and more than or equal age comparing with 22"
   ]
  },
  {
   "cell_type": "code",
   "execution_count": 67,
   "id": "4613701e",
   "metadata": {},
   "outputs": [
    {
     "name": "stdout",
     "output_type": "stream",
     "text": [
      "5\n",
      "4\n"
     ]
    }
   ],
   "source": [
    "lAge = 0\n",
    "geAge = 0\n",
    "for stds in sSets:\n",
    "    if stds[-2] < 22:\n",
    "        lAge += 1\n",
    "    else:\n",
    "        geAge += 1\n",
    "print(geAge)\n",
    "print(lAge)"
   ]
  },
  {
   "cell_type": "markdown",
   "id": "709c40fa",
   "metadata": {},
   "source": [
    "if-elif-else satement"
   ]
  },
  {
   "cell_type": "code",
   "execution_count": 68,
   "id": "0c9fbcd2",
   "metadata": {},
   "outputs": [],
   "source": [
    "a =7\n",
    "b=6"
   ]
  },
  {
   "cell_type": "code",
   "execution_count": 69,
   "id": "7126b21d",
   "metadata": {},
   "outputs": [
    {
     "name": "stdout",
     "output_type": "stream",
     "text": [
      "1\n"
     ]
    }
   ],
   "source": [
    "if (a>b):\n",
    "    print(\"1\")\n",
    "elif (a<b):\n",
    "    print(\"2\")\n",
    "else:\n",
    "    print(\"3\")"
   ]
  },
  {
   "cell_type": "markdown",
   "id": "6c7272ee",
   "metadata": {},
   "source": [
    "count the number of faculties"
   ]
  },
  {
   "cell_type": "code",
   "execution_count": 70,
   "id": "9c373c15",
   "metadata": {},
   "outputs": [
    {
     "name": "stdout",
     "output_type": "stream",
     "text": [
      "[['rabin', 'male', 'CSIT', 7, 16, 77], ['prabin', 'male', 'BCA', 5, 26, 75], ['sabin', 'male', 'CSIT', 6, 36, 79], ['nabin', 'male', 'BCA', 7, 26, 73], ['nabina', 'female', 'CSIT', 7, 22, 83], ['nabina', 'female', 'BIM', 5, 15, 53], ['nabina', 'female', 'CSIT', 4, 46, 63], ['nabin', 'male', 'BIM', 23, 6, 78], ['nabin', 'male', 'BCA', 21, 4, 65]]\n"
     ]
    }
   ],
   "source": [
    "sSets= [student_1, student_2, student_3, student_4, student_5, student_6, student_7, student_8, student_9]\n",
    "print (sSets)"
   ]
  },
  {
   "cell_type": "code",
   "execution_count": 71,
   "id": "3473f475",
   "metadata": {},
   "outputs": [
    {
     "name": "stdout",
     "output_type": "stream",
     "text": [
      "4\n",
      "3\n",
      "2\n"
     ]
    }
   ],
   "source": [
    "csitCount = 0\n",
    "bcaCount = 0\n",
    "bimCount = 0\n",
    "for faculty in sSets:\n",
    "    if faculty[2] == 'CSIT':\n",
    "        csitCount += 1\n",
    "    elif faculty[2] == 'BCA':\n",
    "        bcaCount +=1\n",
    "    else:\n",
    "        bimCount +=1\n",
    "print (csitCount)\n",
    "print (bcaCount)\n",
    "print (bimCount)"
   ]
  },
  {
   "cell_type": "markdown",
   "id": "2eb7befa",
   "metadata": {},
   "source": [
    "count the number of students for each semester"
   ]
  },
  {
   "cell_type": "code",
   "execution_count": 72,
   "id": "44bd3be4",
   "metadata": {},
   "outputs": [
    {
     "name": "stdout",
     "output_type": "stream",
     "text": [
      "1\n",
      "2\n",
      "1\n",
      "5\n"
     ]
    }
   ],
   "source": [
    "fourthCount = 0\n",
    "fifthCount = 0\n",
    "sixthCount = 0\n",
    "seventhCount = 0\n",
    "for faculty in sSets:\n",
    "    if faculty[3] == 4:\n",
    "        fourthCount += 1\n",
    "    elif faculty[3] == 5:\n",
    "        fifthCount +=1\n",
    "    elif faculty[3] == 6:\n",
    "        sixthCount +=1\n",
    "    else:\n",
    "        seventhCount +=1\n",
    "print (fourthCount)\n",
    "print (fifthCount)\n",
    "print (sixthCount)\n",
    "print (seventhCount)"
   ]
  },
  {
   "cell_type": "markdown",
   "id": "e6e3f2b7",
   "metadata": {},
   "source": [
    "checking membership in dictionary"
   ]
  },
  {
   "cell_type": "code",
   "execution_count": 73,
   "id": "d305fd5c",
   "metadata": {},
   "outputs": [],
   "source": [
    "dict1 = {\"name\": \"rabin\", \"age\": 22, \"location\": \"devinagar\", \"level\":\"bachelor\"}\n"
   ]
  },
  {
   "cell_type": "code",
   "execution_count": 74,
   "id": "16b2c7ed",
   "metadata": {},
   "outputs": [
    {
     "data": {
      "text/plain": [
       "dict_keys(['name', 'age', 'location', 'level'])"
      ]
     },
     "execution_count": 74,
     "metadata": {},
     "output_type": "execute_result"
    }
   ],
   "source": [
    "dict1.keys()"
   ]
  },
  {
   "cell_type": "code",
   "execution_count": 75,
   "id": "0a15fc2c",
   "metadata": {},
   "outputs": [],
   "source": [
    "b= \"age\" in dict1"
   ]
  },
  {
   "cell_type": "code",
   "execution_count": 76,
   "id": "932630a9",
   "metadata": {},
   "outputs": [
    {
     "data": {
      "text/plain": [
       "True"
      ]
     },
     "execution_count": 76,
     "metadata": {},
     "output_type": "execute_result"
    }
   ],
   "source": [
    "b"
   ]
  },
  {
   "cell_type": "markdown",
   "id": "3e3d04ed",
   "metadata": {},
   "source": [
    "can't check with values"
   ]
  },
  {
   "cell_type": "code",
   "execution_count": 77,
   "id": "37e187b3",
   "metadata": {},
   "outputs": [],
   "source": [
    "c= 22 in dict1"
   ]
  },
  {
   "cell_type": "code",
   "execution_count": 78,
   "id": "6bc2f975",
   "metadata": {},
   "outputs": [
    {
     "data": {
      "text/plain": [
       "False"
      ]
     },
     "execution_count": 78,
     "metadata": {},
     "output_type": "execute_result"
    }
   ],
   "source": [
    "c"
   ]
  },
  {
   "cell_type": "code",
   "execution_count": 79,
   "id": "2a127300",
   "metadata": {},
   "outputs": [],
   "source": [
    "fruit_dict = {\"apple\":300, \"banana\":120, \"orange\":130,\"dragon_fruit\":400}\n"
   ]
  },
  {
   "cell_type": "code",
   "execution_count": 80,
   "id": "2e5978cf",
   "metadata": {},
   "outputs": [],
   "source": [
    "is_in_dictionary_1 = \"banana\" in fruit_dict"
   ]
  },
  {
   "cell_type": "code",
   "execution_count": 81,
   "id": "fb834310",
   "metadata": {},
   "outputs": [
    {
     "data": {
      "text/plain": [
       "True"
      ]
     },
     "execution_count": 81,
     "metadata": {},
     "output_type": "execute_result"
    }
   ],
   "source": [
    "is_in_dictionary_1"
   ]
  },
  {
   "cell_type": "code",
   "execution_count": 82,
   "id": "3cba0ed6",
   "metadata": {},
   "outputs": [
    {
     "data": {
      "text/plain": [
       "False"
      ]
     },
     "execution_count": 82,
     "metadata": {},
     "output_type": "execute_result"
    }
   ],
   "source": [
    "is_in_dictionary_2 = 400 in fruit_dict\n",
    "is_in_dictionary_2 "
   ]
  },
  {
   "cell_type": "code",
   "execution_count": 83,
   "id": "ad9ffbc4",
   "metadata": {},
   "outputs": [
    {
     "name": "stdout",
     "output_type": "stream",
     "text": [
      "it exists\n"
     ]
    }
   ],
   "source": [
    "if \"apple\" in fruit_dict:\n",
    "    result = \"it exists\"\n",
    "    print(result)"
   ]
  },
  {
   "cell_type": "markdown",
   "id": "62172d5a",
   "metadata": {},
   "source": [
    "updating dictionary values"
   ]
  },
  {
   "cell_type": "code",
   "execution_count": 85,
   "id": "93a7a80a",
   "metadata": {},
   "outputs": [
    {
     "data": {
      "text/plain": [
       "{'apple': 320, 'banana': 120, 'orange': 130, 'dragon_fruit': 400}"
      ]
     },
     "execution_count": 85,
     "metadata": {},
     "output_type": "execute_result"
    }
   ],
   "source": [
    "fruit_dict[\"apple\"]= 320\n",
    "fruit_dict"
   ]
  },
  {
   "cell_type": "code",
   "execution_count": 86,
   "id": "9157f990",
   "metadata": {},
   "outputs": [
    {
     "data": {
      "text/plain": [
       "{'apple': 320, 'banana': 150, 'orange': 130, 'dragon_fruit': 400}"
      ]
     },
     "execution_count": 86,
     "metadata": {},
     "output_type": "execute_result"
    }
   ],
   "source": [
    "fruit_dict.update({\"banana\": 150})\n",
    "fruit_dict"
   ]
  },
  {
   "cell_type": "code",
   "execution_count": 87,
   "id": "9ae278ae",
   "metadata": {},
   "outputs": [],
   "source": [
    "content_ratings = {'4+': 622, '12+': 1155, '9+': 987, '17+': 4433}"
   ]
  },
  {
   "cell_type": "code",
   "execution_count": null,
   "id": "857f6d73",
   "metadata": {},
   "outputs": [],
   "source": [
    "swapping values of 4+ 1nd 17+"
   ]
  },
  {
   "cell_type": "code",
   "execution_count": 88,
   "id": "095a5011",
   "metadata": {},
   "outputs": [],
   "source": [
    "temp = content_ratings['4+']\n",
    "content_ratings['4+'] = content_ratings['17+']\n",
    "content_ratings['17+'] = temp"
   ]
  },
  {
   "cell_type": "code",
   "execution_count": 90,
   "id": "36a3b774",
   "metadata": {},
   "outputs": [
    {
     "name": "stdout",
     "output_type": "stream",
     "text": [
      "{'4+': 4433, '12+': 1155, '9+': 987, '17+': 622}\n"
     ]
    }
   ],
   "source": [
    "print(content_ratings)"
   ]
  },
  {
   "cell_type": "code",
   "execution_count": null,
   "id": "f9c10ebd",
   "metadata": {},
   "outputs": [],
   "source": []
  },
  {
   "cell_type": "code",
   "execution_count": 91,
   "id": "17d4fcc4",
   "metadata": {},
   "outputs": [],
   "source": [
    "list2 = [1,2,3,3,2,1,2,1,3,1,2,3]"
   ]
  },
  {
   "cell_type": "code",
   "execution_count": 101,
   "id": "f65ffbe5",
   "metadata": {},
   "outputs": [],
   "source": [
    "dict2 = {1: 0, 2:0, 3:0}"
   ]
  },
  {
   "cell_type": "code",
   "execution_count": 102,
   "id": "389e2925",
   "metadata": {},
   "outputs": [
    {
     "data": {
      "text/plain": [
       "{1: 0, 2: 0, 3: 0}"
      ]
     },
     "execution_count": 102,
     "metadata": {},
     "output_type": "execute_result"
    }
   ],
   "source": [
    "dict2"
   ]
  },
  {
   "cell_type": "code",
   "execution_count": 100,
   "id": "155326f3",
   "metadata": {},
   "outputs": [],
   "source": [
    "for item in list2:\n",
    "    if item == 1:\n",
    "        dict2[1] += 1\n",
    "    elif item == 2:\n",
    "        dict2[2] += 1\n",
    "    else:\n",
    "        dict2[3] += 1"
   ]
  },
  {
   "cell_type": "code",
   "execution_count": 106,
   "id": "c0f81001",
   "metadata": {},
   "outputs": [
    {
     "data": {
      "text/plain": [
       "{1: 4, 2: 4, 3: 4}"
      ]
     },
     "execution_count": 106,
     "metadata": {},
     "output_type": "execute_result"
    }
   ],
   "source": [
    "dict2"
   ]
  },
  {
   "cell_type": "code",
   "execution_count": 103,
   "id": "e7e7b524",
   "metadata": {},
   "outputs": [],
   "source": [
    "for item in list2:\n",
    "    if item in dict2:\n",
    "        dict2[item] += 1"
   ]
  },
  {
   "cell_type": "code",
   "execution_count": 105,
   "id": "00b90e36",
   "metadata": {},
   "outputs": [
    {
     "data": {
      "text/plain": [
       "{1: 4, 2: 4, 3: 4}"
      ]
     },
     "execution_count": 105,
     "metadata": {},
     "output_type": "execute_result"
    }
   ],
   "source": [
    "dict2"
   ]
  },
  {
   "cell_type": "markdown",
   "id": "67b48af7",
   "metadata": {},
   "source": [
    "count the number of times each age is repeated (frequency table)"
   ]
  },
  {
   "cell_type": "code",
   "execution_count": 2,
   "id": "f3c41d34",
   "metadata": {},
   "outputs": [],
   "source": [
    "student_1 = ['Ram', 'male',23, 'B.C.A', 'Seventh Semester', 78.2]\n",
    "student_2 = ['Shyam','male',21,'B.C.A', 'Fifth Semester',67.5]\n",
    "student_3 = ['Abhishek','male',22, 'B.Sc.Cs.It', 'Seventh Semester',82.4]\n",
    "student_4 = ['Mahima','female',20, 'B.Sc.Cs.It', 'Fifth Semester',87.3]\n",
    "student_5 = ['Sanjana','female',22, 'B.Sc.Cs.It', 'Seventh Semester',69.8]\n",
    "student_6 = ['Prabhat', 'male',23, 'B.Sc.Cs.It', 'Seventh Semester', 80.2]\n",
    "student_7 = ['Ashmita','female',21,'B.Sc.Cs.It', 'Fifth Semester',81.5]\n",
    "student_8 = ['Shanti','female',22, 'B.Sc.Cs.It', 'Fifth Semester',72.4]\n",
    "student_9 = ['Himal','male',20, 'B.C,A', 'Fifth Semester',78.3]\n",
    "student_10 = ['Rabina','female',22, 'B.I.M', 'Seventh Semester',75.8]\n",
    "student_11 = ['Kamal', 'male',23, 'B.I.M', 'Fifth Semester', 80.2]\n",
    "student_12= ['Bhawana','female',21,'B.I.M', 'Third Semester',81.5]\n",
    "student_13 = ['Sunil','male',22, 'B.I.M', 'Fourth Semester',72.4]\n",
    "student_14= ['Nirisha','female',20, 'B.I.M', 'Fourth Semester',78.3]\n",
    "student_15 = ['Sushmita','female',22, 'B.I.M', 'Third Semester',75.8]\n",
    "student_16 = ['Alisha', 'female',20, 'B.A.L.L.B', 'Second Semester', 70.2]\n",
    "student_17 = ['Dipen','male',23,'B.C.A', 'Fifth Semester',67.5]\n",
    "student_18 = ['Purnima','female',23, 'B.A.L.L.B', 'Seventh Semester',81.4]\n",
    "student_19 = ['Aastha','female',24, 'B.Sc.Cs.It', 'Fifth Semester',83.3]\n",
    "student_20 = ['Pramila','female',24, 'B.Sc.Cs.It', 'Seventh Semester',79.8]\n",
    "student_21 = ['Pawan', 'male',24, 'B.Sc.Cs.It', 'Third Semester', 70.2]\n",
    "student_22 = ['Prakriti','female',22,'B.A.L.L.B', 'Fifth Semester',69.5]\n",
    "student_23 = ['Nabina','female',23, 'B.Sc.Cs.It', 'Second Semester',77.4]\n",
    "student_24 = ['Siddhant','male',23, 'B.C,A', 'Fifth Semester',78.3]\n",
    "student_25 = ['Goma','female',25, 'B.A.L.L.B', 'Seventh Semester',72.8]\n",
    "student_26 = ['Rijan', 'male',23, 'B.I.M', 'Fifth Semester', 81.2]\n",
    "student_27 = ['Rihans','male',21,'B.C.A', 'Third Semester',86.5]\n",
    "student_28 = ['Kabya','female',22, 'B.I.M', 'Second Semester',78.4]\n",
    "student_29 = ['Abhi','male',20, 'B.I.M', 'Fourth Semester',71.3]\n",
    "student_30 = ['Seema','female',25, 'B.I.M', 'Fifth Semester',69.8]\n",
    "\n",
    "student_datasets = [student_1, student_2, student_3, student_4, student_5,\n",
    "                    student_6, student_7, student_8, student_9, student_10,\n",
    "                   student_11, student_12, student_13, student_14,student_15,\n",
    "                   student_16, student_17, student_18, student_19, student_20,\n",
    "                    student_21, student_22, student_23, student_24, student_25,\n",
    "                   student_26, student_27, student_28, student_29, student_30]"
   ]
  },
  {
   "cell_type": "code",
   "execution_count": 108,
   "id": "75b7c4a6",
   "metadata": {},
   "outputs": [],
   "source": [
    "# dict2 = {\"student_1\": 0, \"student_2\": 0, \"student_3\": 0, \"student_4\": 0, \"student_5\":0 ,\n",
    "#                     \"student_6\": 0, \"student_7\": 0, \"student_8\", student_9, student_10,\n",
    "#                    student_11, student_12, student_13, student_14,student_15,\n",
    "#                    student_16, student_17, student_18, student_19, student_20,\n",
    "#                     student_21, student_22, student_23, student_24, student_25,\n",
    "#                    student_26, student_27, student_28, student_29, student_30}"
   ]
  },
  {
   "cell_type": "code",
   "execution_count": 4,
   "id": "a5e0339c",
   "metadata": {},
   "outputs": [],
   "source": [
    "dict3 = {}"
   ]
  },
  {
   "cell_type": "code",
   "execution_count": 6,
   "id": "07cd2eae",
   "metadata": {},
   "outputs": [
    {
     "name": "stdout",
     "output_type": "stream",
     "text": [
      "{23: 8, 21: 4, 22: 8, 20: 5, 24: 3, 25: 2}\n"
     ]
    }
   ],
   "source": [
    "for stds in student_datasets:\n",
    "    age = stds[2]\n",
    "    if age not in dict3:\n",
    "        dict3[age] = 1\n",
    "    else:\n",
    "        dict3[age] += 1\n",
    "print(dict3)"
   ]
  },
  {
   "cell_type": "code",
   "execution_count": 9,
   "id": "a3ed8b4b",
   "metadata": {},
   "outputs": [
    {
     "name": "stdout",
     "output_type": "stream",
     "text": [
      "{'Seventh Semester': 8, 'Fifth Semester': 12, 'Third Semester': 4, 'Fourth Semester': 3, 'Second Semester': 3}\n"
     ]
    }
   ],
   "source": [
    "dict4 = {}\n",
    "for stds in student_datasets:\n",
    "    semester = stds[-2]\n",
    "    if semester not in dict4:\n",
    "        dict4[semester] = 1\n",
    "    else:\n",
    "        dict4[semester] += 1\n",
    "print(dict4)"
   ]
  },
  {
   "cell_type": "markdown",
   "id": "cb162054",
   "metadata": {},
   "source": [
    "Built-in Functions"
   ]
  },
  {
   "cell_type": "code",
   "execution_count": 10,
   "id": "0a9d8d4a",
   "metadata": {},
   "outputs": [
    {
     "ename": "SyntaxError",
     "evalue": "invalid syntax (4217080406.py, line 4)",
     "output_type": "error",
     "traceback": [
      "\u001b[1;36m  File \u001b[1;32m\"C:\\Users\\rabin\\AppData\\Local\\Temp\\ipykernel_21204\\4217080406.py\"\u001b[1;36m, line \u001b[1;32m4\u001b[0m\n\u001b[1;33m    def\u001b[0m\n\u001b[1;37m       ^\u001b[0m\n\u001b[1;31mSyntaxError\u001b[0m\u001b[1;31m:\u001b[0m invalid syntax\n"
     ]
    }
   ],
   "source": [
    "a_list = []\n",
    "sum_manual = 0\n",
    "for item in a_list:\n",
    "    def"
   ]
  },
  {
   "cell_type": "code",
   "execution_count": 13,
   "id": "f7623d32",
   "metadata": {},
   "outputs": [],
   "source": [
    "def display_name():\n",
    "    print(\"Rabin Pokhrel\")"
   ]
  },
  {
   "cell_type": "code",
   "execution_count": 15,
   "id": "40cd47e4",
   "metadata": {},
   "outputs": [
    {
     "name": "stdout",
     "output_type": "stream",
     "text": [
      "Rabin Pokhrel\n"
     ]
    }
   ],
   "source": [
    "display_name()"
   ]
  },
  {
   "cell_type": "markdown",
   "id": "6c820448",
   "metadata": {},
   "source": [
    "parameterized function"
   ]
  },
  {
   "cell_type": "code",
   "execution_count": 22,
   "id": "44b628f1",
   "metadata": {},
   "outputs": [],
   "source": [
    "def square_num(num):\n",
    "    result = num *num\n",
    "    return result"
   ]
  },
  {
   "cell_type": "code",
   "execution_count": 23,
   "id": "4b2d97e3",
   "metadata": {},
   "outputs": [
    {
     "name": "stdout",
     "output_type": "stream",
     "text": [
      "25\n"
     ]
    }
   ],
   "source": [
    "square_result = square_num(5)\n",
    "print (square_result)"
   ]
  },
  {
   "cell_type": "markdown",
   "id": "951380a1",
   "metadata": {},
   "source": [
    "function with default argument"
   ]
  },
  {
   "cell_type": "code",
   "execution_count": 20,
   "id": "9281c370",
   "metadata": {},
   "outputs": [],
   "source": [
    "def square_num(num = 7):\n",
    "    result = num *num\n",
    "    return result"
   ]
  },
  {
   "cell_type": "code",
   "execution_count": 21,
   "id": "f6a8a6e9",
   "metadata": {},
   "outputs": [
    {
     "name": "stdout",
     "output_type": "stream",
     "text": [
      "49\n"
     ]
    }
   ],
   "source": [
    "square_result = square_num()\n",
    "print (square_result)"
   ]
  },
  {
   "cell_type": "markdown",
   "id": "80dfc7fc",
   "metadata": {},
   "source": [
    "calculating cube of different numbers call the same function"
   ]
  },
  {
   "cell_type": "code",
   "execution_count": 27,
   "id": "a0b83eba",
   "metadata": {},
   "outputs": [],
   "source": [
    "def cube(num):\n",
    "    cube_result = num **3\n",
    "    return cube_result"
   ]
  },
  {
   "cell_type": "code",
   "execution_count": 28,
   "id": "a88c8353",
   "metadata": {},
   "outputs": [
    {
     "name": "stdout",
     "output_type": "stream",
     "text": [
      "125\n",
      "cube of 6 is 216\n"
     ]
    }
   ],
   "source": [
    "cube_5 = cube(5)\n",
    "print (cube_5)\n",
    "cube_6 = cube(6)\n",
    "print (\"cube of 6 is\",str(cube_6))"
   ]
  },
  {
   "cell_type": "code",
   "execution_count": 31,
   "id": "58c45ae5",
   "metadata": {},
   "outputs": [],
   "source": [
    "def mul_5(num):\n",
    "    mul_result = num * 5\n",
    "    return mul_result"
   ]
  },
  {
   "cell_type": "code",
   "execution_count": 33,
   "id": "65f41490",
   "metadata": {},
   "outputs": [
    {
     "name": "stdout",
     "output_type": "stream",
     "text": [
      "100\n",
      "result of 16 is 80\n"
     ]
    }
   ],
   "source": [
    "mul_20 = mul_5(20)\n",
    "print (mul_20)\n",
    "mul_16 = mul_5(16)\n",
    "print (\"result of 16 is\",str(mul_16))"
   ]
  },
  {
   "cell_type": "markdown",
   "id": "2d94876d",
   "metadata": {},
   "source": [
    "keyword arguments"
   ]
  },
  {
   "cell_type": "code",
   "execution_count": 34,
   "id": "00d6c2a8",
   "metadata": {},
   "outputs": [],
   "source": [
    "def subtraction(num1, num2):\n",
    "    return num1 - num2"
   ]
  },
  {
   "cell_type": "code",
   "execution_count": 35,
   "id": "f2fc1f94",
   "metadata": {},
   "outputs": [
    {
     "data": {
      "text/plain": [
       "12"
      ]
     },
     "execution_count": 35,
     "metadata": {},
     "output_type": "execute_result"
    }
   ],
   "source": [
    "sub1 = subtraction(num1 = 19, num2 = 7)\n",
    "sub1"
   ]
  },
  {
   "cell_type": "code",
   "execution_count": 40,
   "id": "f3669e90",
   "metadata": {},
   "outputs": [],
   "source": [
    "def displayName(l_name, f_name):\n",
    "    print(\"{} {}\".format(f_name, l_name))"
   ]
  },
  {
   "cell_type": "code",
   "execution_count": 41,
   "id": "9c4879f0",
   "metadata": {},
   "outputs": [
    {
     "name": "stdout",
     "output_type": "stream",
     "text": [
      "rabin pokhrel\n"
     ]
    }
   ],
   "source": [
    "displayName(f_name= 'rabin', l_name= 'pokhrel')"
   ]
  },
  {
   "cell_type": "markdown",
   "id": "9ef05270",
   "metadata": {},
   "source": [
    "variable length argument"
   ]
  },
  {
   "cell_type": "code",
   "execution_count": 42,
   "id": "caefe11b",
   "metadata": {},
   "outputs": [],
   "source": [
    "def non_key_argument(*args):\n",
    "    for item in args:\n",
    "        print (item)"
   ]
  },
  {
   "cell_type": "code",
   "execution_count": 44,
   "id": "2ef665cc",
   "metadata": {},
   "outputs": [
    {
     "name": "stdout",
     "output_type": "stream",
     "text": [
      "1\n",
      "2\n",
      "3\n",
      "4\n",
      "5\n",
      "6\n"
     ]
    }
   ],
   "source": [
    "non_key_argument(1,2,3,4,5,6)"
   ]
  },
  {
   "cell_type": "code",
   "execution_count": 50,
   "id": "437e7565",
   "metadata": {},
   "outputs": [],
   "source": [
    "def keyword_argument(**kwargs):\n",
    "    for key, val in kwargs.items():\n",
    "        print(\"key is {} and value is {}\".format(key, val))"
   ]
  },
  {
   "cell_type": "code",
   "execution_count": 51,
   "id": "1a6973c0",
   "metadata": {},
   "outputs": [
    {
     "name": "stdout",
     "output_type": "stream",
     "text": [
      "key is f_name and value is rabin\n",
      "key is l_name and value is pokhrel\n"
     ]
    }
   ],
   "source": [
    "keyword_argument(f_name = \"rabin\", l_name = \"pokhrel\")"
   ]
  },
  {
   "cell_type": "code",
   "execution_count": 56,
   "id": "b296e778",
   "metadata": {},
   "outputs": [],
   "source": [
    "def date(month,day):\n",
    "    return month + ' ' + str(day)"
   ]
  },
  {
   "cell_type": "code",
   "execution_count": 57,
   "id": "53b367d3",
   "metadata": {},
   "outputs": [
    {
     "data": {
      "text/plain": [
       "'december 13'"
      ]
     },
     "execution_count": 57,
     "metadata": {},
     "output_type": "execute_result"
    }
   ],
   "source": [
    "date(month = \"december\", day = 13)"
   ]
  },
  {
   "cell_type": "code",
   "execution_count": 55,
   "id": "cf4cb63f",
   "metadata": {},
   "outputs": [],
   "source": [
    "def date_with_year(year, month, day):\n",
    "    return month + '' + str(day)+ ' ' + str(year)"
   ]
  },
  {
   "cell_type": "code",
   "execution_count": 60,
   "id": "38f9387a",
   "metadata": {},
   "outputs": [],
   "source": [
    "first_date = date_with_year(year = 1999, month = \"march,\", day = 24)"
   ]
  },
  {
   "cell_type": "code",
   "execution_count": 61,
   "id": "a4475b35",
   "metadata": {},
   "outputs": [
    {
     "name": "stdout",
     "output_type": "stream",
     "text": [
      "march,24 1999\n"
     ]
    }
   ],
   "source": [
    "print(first_date)"
   ]
  },
  {
   "cell_type": "code",
   "execution_count": null,
   "id": "859d956f",
   "metadata": {},
   "outputs": [],
   "source": []
  },
  {
   "cell_type": "code",
   "execution_count": 62,
   "id": "bbeb3f7f",
   "metadata": {},
   "outputs": [],
   "source": [
    "\n",
    "student_1 = ['Ram', 'male',23, 'B.C.A', 'Seventh Semester', 78.2]\n",
    "student_2 = ['Shyam','male',21,'B.C.A', 'Fifth Semester',67.5]\n",
    "student_3 = ['Abhishek','male',22, 'B.Sc.Cs.It', 'Seventh Semester',82.4]\n",
    "student_4 = ['Mahima','female',20, 'B.Sc.Cs.It', 'Fifth Semester',87.3]\n",
    "student_5 = ['Sanjana','female',22, 'B.Sc.Cs.It', 'Seventh Semester',69.8]\n",
    "student_6 = ['Prabhat', 'male',23, 'B.Sc.Cs.It', 'Seventh Semester', 80.2]\n",
    "student_7 = ['Ashmita','female',21,'B.Sc.Cs.It', 'Fifth Semester',81.5]\n",
    "student_8 = ['Shanti','female',22, 'B.Sc.Cs.It', 'Fifth Semester',72.4]\n",
    "student_9 = ['Himal','male',20, 'B.C,A', 'Fifth Semester',78.3]\n",
    "student_10 = ['Rabina','female',22, 'B.I.M', 'Seventh Semester',75.8]\n",
    "student_11 = ['Kamal', 'male',23, 'B.I.M', 'Fifth Semester', 80.2]\n",
    "student_12= ['Bhawana','female',21,'B.I.M', 'Third Semester',81.5]\n",
    "student_13 = ['Sunil','male',22, 'B.I.M', 'Fourth Semester',72.4]\n",
    "student_14= ['Nirisha','female',20, 'B.I.M', 'Fourth Semester',78.3]\n",
    "student_15 = ['Sushmita','female',22, 'B.I.M', 'Third Semester',75.8]\n",
    "student_16 = ['Alisha', 'female',20, 'B.A.L.L.B', 'Second Semester', 70.2]\n",
    "student_17 = ['Dipen','male',23,'B.C.A', 'Fifth Semester',67.5]\n",
    "student_18 = ['Purnima','female',23, 'B.A.L.L.B', 'Seventh Semester',81.4]\n",
    "student_19 = ['Aastha','female',24, 'B.Sc.Cs.It', 'Fifth Semester',83.3]\n",
    "student_20 = ['Pramila','female',24, 'B.Sc.Cs.It', 'Seventh Semester',79.8]\n",
    "student_21 = ['Pawan', 'male',24, 'B.Sc.Cs.It', 'Third Semester', 70.2]\n",
    "student_22 = ['Prakriti','female',22,'B.A.L.L.B', 'Fifth Semester',69.5]\n",
    "student_23 = ['Nabina','female',23, 'B.Sc.Cs.It', 'Second Semester',77.4]\n",
    "student_24 = ['Siddhant','male',23, 'B.C,A', 'Fifth Semester',78.3]\n",
    "student_25 = ['Goma','female',25, 'B.A.L.L.B', 'Seventh Semester',72.8]\n",
    "student_26 = ['Rijan', 'male',23, 'B.I.M', 'Fifth Semester', 81.2]\n",
    "student_27 = ['Rihans','male',21,'B.C.A', 'Third Semester',86.5]\n",
    "student_28 = ['Kabya','female',22, 'B.I.M', 'Second Semester',78.4]\n",
    "student_29 = ['Abhi','male',20, 'B.I.M', 'Fourth Semester',71.3]\n",
    "student_30 = ['Seema','female',25, 'B.I.M', 'Fifth Semester',69.8]\n",
    "\n",
    "student_datasets = [student_1, student_2, student_3, student_4, student_5,\n",
    "                    student_6, student_7, student_8, student_9, student_10,\n",
    "                   student_11, student_12, student_13, student_14,student_15,\n",
    "                   student_16, student_17, student_18, student_19, student_20,\n",
    "                    student_21, student_22, student_23, student_24, student_25,\n",
    "                   student_26, student_27, student_28, student_29, student_30]"
   ]
  },
  {
   "cell_type": "code",
   "execution_count": 63,
   "id": "c7461f7c",
   "metadata": {},
   "outputs": [
    {
     "data": {
      "text/plain": [
       "['Ram', 'male', 23, 'B.C.A', 'Seventh Semester', 78.2]"
      ]
     },
     "execution_count": 63,
     "metadata": {},
     "output_type": "execute_result"
    }
   ],
   "source": [
    "student_datasets[0]"
   ]
  },
  {
   "cell_type": "markdown",
   "id": "458ea0a6",
   "metadata": {},
   "source": [
    "make the list of faculties by extracting from above datasets"
   ]
  },
  {
   "cell_type": "code",
   "execution_count": 102,
   "id": "f8450f51",
   "metadata": {},
   "outputs": [],
   "source": [
    "def extract(index_num):\n",
    "    empty_list = []\n",
    "    for item in student_datasets:\n",
    "        empty_list.append(item[index_num])\n",
    "    return empty_list"
   ]
  },
  {
   "cell_type": "code",
   "execution_count": 103,
   "id": "7d7dcc3d",
   "metadata": {
    "scrolled": false
   },
   "outputs": [
    {
     "name": "stdout",
     "output_type": "stream",
     "text": [
      "['B.C.A', 'B.C.A', 'B.Sc.Cs.It', 'B.Sc.Cs.It', 'B.Sc.Cs.It', 'B.Sc.Cs.It', 'B.Sc.Cs.It', 'B.Sc.Cs.It', 'B.C,A', 'B.I.M', 'B.I.M', 'B.I.M', 'B.I.M', 'B.I.M', 'B.I.M', 'B.A.L.L.B', 'B.C.A', 'B.A.L.L.B', 'B.Sc.Cs.It', 'B.Sc.Cs.It', 'B.Sc.Cs.It', 'B.A.L.L.B', 'B.Sc.Cs.It', 'B.C,A', 'B.A.L.L.B', 'B.I.M', 'B.C.A', 'B.I.M', 'B.I.M', 'B.I.M']\n"
     ]
    }
   ],
   "source": [
    "faculty_data = extract(3)\n",
    "print(faculty_data)"
   ]
  },
  {
   "cell_type": "code",
   "execution_count": 83,
   "id": "82f5132a",
   "metadata": {},
   "outputs": [],
   "source": [
    "def freq_table(input_list):\n",
    "    dictFaculties = {}\n",
    "    for stds in input_list:\n",
    "#   faculty = stds[3]\n",
    "        if stds not in dictFaculties:\n",
    "            dictFaculties[stds] = 1\n",
    "        else:\n",
    "            dictFaculties[stds] += 1\n",
    "    return dictFaculties"
   ]
  },
  {
   "cell_type": "code",
   "execution_count": 84,
   "id": "eef3bd06",
   "metadata": {},
   "outputs": [
    {
     "name": "stdout",
     "output_type": "stream",
     "text": [
      "{'B.C.A': 3, 'B.Sc.Cs.It': 10, 'B.C,A': 2, 'B.I.M': 10, 'B.A.L.L.B': 4}\n"
     ]
    }
   ],
   "source": [
    "faculties_ft = freq_table(input_list = faculty_data)\n",
    "print(faculties_ft)"
   ]
  },
  {
   "cell_type": "code",
   "execution_count": 88,
   "id": "13badd6c",
   "metadata": {},
   "outputs": [],
   "source": [
    "def freq_table(index_num):\n",
    "    freq_dict = {}\n",
    "    for item in student_datasets[1:]:\n",
    "        if item[index_num] not in freq_dict:\n",
    "            freq_dict[item[index_num]] = 1\n",
    "        else:\n",
    "            freq_dict[item[index_num]] += 1\n",
    "    return freq_dict"
   ]
  },
  {
   "cell_type": "code",
   "execution_count": 97,
   "id": "1b82e471",
   "metadata": {},
   "outputs": [
    {
     "name": "stdout",
     "output_type": "stream",
     "text": [
      "{'B.C.A': 3, 'B.Sc.Cs.It': 10, 'B.C,A': 2, 'B.I.M': 10, 'B.A.L.L.B': 4}\n"
     ]
    }
   ],
   "source": [
    "faculty_ft = freq_table(index_num = 3)\n",
    "print(faculty_ft)\n",
    "# freq_table(5)"
   ]
  },
  {
   "cell_type": "markdown",
   "id": "1b894070",
   "metadata": {},
   "source": [
    "reusability and multiple parameters see from git"
   ]
  },
  {
   "cell_type": "code",
   "execution_count": 104,
   "id": "7900bb5a",
   "metadata": {},
   "outputs": [],
   "source": [
    "header = ['Movie Name','Genre', 'Lead Actor', 'Released Year', 'No of ratings', 'Avg Rating']\n",
    "movie1 = ['Titanic','Romantic', 'Leonardo Decaprio', '1997', 1169835, 7.9]\n",
    "movie2 = ['Met Joe Black','Romantic', 'Brad Pit', '1998', 243882, 7.3]\n",
    "movie3 = ['Edge of Tomorrow','Sci-Fiction', 'Tom Cruise', '2014', 678775, 7.9]\n",
    "movie4 = ['Chennai Express', 'Action', 'Sharukh Khan', '2013', 55643, 6.0]\n",
    "movie5 = ['The Tourist', 'Mystery', 'Johnny Deep', '2010', 244817, 6.0]\n",
    "movie6 = ['Romie + Juliet','Romantic', 'Leonardo Decaprio', '1996', 230832, 6.7]\n",
    "movie7 = ['Fight Club','Action', 'Brad Pit', '1999', 2115606 , 8.8]\n",
    "movie3 = ['Mission Impossible - Fallout','Action', 'Tom Cruise', '2018', 333634, 7.7]\n",
    "movie8 = ['Don2', 'Action', 'Sharukh Khan', '2011', 53731, 7.0]\n",
    "movie9 = ['Pirates of the Caribbean: Dead Men Tell No Tales', 'Action', 'Johnny Deep', '2017', 313199, 6.5]\n",
    "movie10 = ['Enemy', 'Mystery', 'Jake Gyllenhaal', '2013', 195742, 6.9]\n",
    "movie11 = ['Chocolat','Romantic', 'Johnny Deep', '2000', 193148, 7.3]\n",
    "movie12 = ['Source Code','Sci-Fiction', 'Jake Gyllenhaal', '2011', 522197, 7.5]\n",
    "movie13 = ['Ra-One','Sci-Fiction', 'Sharukh Khan', '2011', 43296, 4.7]\n",
    "movie14 = ['Inception', 'Action', 'Leonardo Decaprio', '2010', 2342560, 8.8]\n",
    "movie15 = ['Jack Reacher', 'Mystery', 'Tom Cruise', '2012', 343395 , 7.0]\n",
    "movie_datasets = [header, movie1, movie2, movie3, movie4, movie5,\n",
    "                    movie6, movie7, movie8, movie9, movie10,\n",
    "                   movie11, movie12, movie13, movie14,movie15]"
   ]
  },
  {
   "cell_type": "code",
   "execution_count": 8,
   "id": "380fd945",
   "metadata": {},
   "outputs": [],
   "source": [
    "def freq_table(datasets, index_num):\n",
    "    freq_dict = {}\n",
    "    for item in datasets[1:]:\n",
    "        if item[index_num] not in freq_dict:\n",
    "            freq_dict[item[index_num]] = 1\n",
    "        else:\n",
    "            freq_dict[item[index_num]] += 1\n",
    "    return freq_dict"
   ]
  },
  {
   "cell_type": "code",
   "execution_count": null,
   "id": "194c074e",
   "metadata": {},
   "outputs": [],
   "source": [
    "movie_genre_count = freq_table(datasets = movie_datasets,  index_num = 1)"
   ]
  },
  {
   "cell_type": "markdown",
   "id": "1f9ba57b",
   "metadata": {},
   "source": [
    "combining functions"
   ]
  },
  {
   "cell_type": "code",
   "execution_count": 3,
   "id": "fb6883fa",
   "metadata": {},
   "outputs": [],
   "source": [
    "def lang_list(input_list):\n",
    "    counter = 0\n",
    "    for item in input_list:\n",
    "        counter += 1\n",
    "    return counter"
   ]
  },
  {
   "cell_type": "code",
   "execution_count": 4,
   "id": "472b6781",
   "metadata": {},
   "outputs": [],
   "source": [
    "def sum_list(input_list):\n",
    "    addition = 0\n",
    "    for item in input_list:\n",
    "        addition += item\n",
    "    return addition"
   ]
  },
  {
   "cell_type": "code",
   "execution_count": 5,
   "id": "2bb4ac70",
   "metadata": {},
   "outputs": [],
   "source": [
    "def mean_list(input_list):\n",
    "    list_sum = sum_list(input_list)\n",
    "    list_length = leng_list(input_list)\n",
    "    list_avg = list_sum/list_length\n",
    "    return list_avg"
   ]
  },
  {
   "cell_type": "code",
   "execution_count": 12,
   "id": "b20d1f37",
   "metadata": {},
   "outputs": [
    {
     "ename": "NameError",
     "evalue": "name 'leng_list' is not defined",
     "output_type": "error",
     "traceback": [
      "\u001b[1;31m---------------------------------------------------------------------------\u001b[0m",
      "\u001b[1;31mNameError\u001b[0m                                 Traceback (most recent call last)",
      "\u001b[1;32m~\\AppData\\Local\\Temp\\ipykernel_12236\\2275051795.py\u001b[0m in \u001b[0;36m<module>\u001b[1;34m\u001b[0m\n\u001b[0;32m      1\u001b[0m \u001b[0mlist1\u001b[0m \u001b[1;33m=\u001b[0m \u001b[1;33m[\u001b[0m\u001b[1;36m12\u001b[0m\u001b[1;33m,\u001b[0m\u001b[1;36m3\u001b[0m\u001b[1;33m,\u001b[0m\u001b[1;36m43\u001b[0m\u001b[1;33m,\u001b[0m\u001b[1;36m6\u001b[0m\u001b[1;33m,\u001b[0m\u001b[1;36m23\u001b[0m\u001b[1;33m,\u001b[0m\u001b[1;36m67\u001b[0m\u001b[1;33m,\u001b[0m\u001b[1;36m87\u001b[0m\u001b[1;33m,\u001b[0m\u001b[1;36m38\u001b[0m\u001b[1;33m,\u001b[0m\u001b[1;36m33\u001b[0m\u001b[1;33m]\u001b[0m\u001b[1;33m\u001b[0m\u001b[1;33m\u001b[0m\u001b[0m\n\u001b[1;32m----> 2\u001b[1;33m \u001b[0mavg_list1\u001b[0m \u001b[1;33m=\u001b[0m \u001b[0mmean_list\u001b[0m\u001b[1;33m(\u001b[0m\u001b[0mlist1\u001b[0m\u001b[1;33m)\u001b[0m\u001b[1;33m\u001b[0m\u001b[1;33m\u001b[0m\u001b[0m\n\u001b[0m\u001b[0;32m      3\u001b[0m \u001b[0mprint\u001b[0m\u001b[1;33m(\u001b[0m\u001b[0mavg_list1\u001b[0m\u001b[1;33m)\u001b[0m\u001b[1;33m\u001b[0m\u001b[1;33m\u001b[0m\u001b[0m\n",
      "\u001b[1;32m~\\AppData\\Local\\Temp\\ipykernel_12236\\3880207522.py\u001b[0m in \u001b[0;36mmean_list\u001b[1;34m(input_list)\u001b[0m\n\u001b[0;32m      1\u001b[0m \u001b[1;32mdef\u001b[0m \u001b[0mmean_list\u001b[0m\u001b[1;33m(\u001b[0m\u001b[0minput_list\u001b[0m\u001b[1;33m)\u001b[0m\u001b[1;33m:\u001b[0m\u001b[1;33m\u001b[0m\u001b[1;33m\u001b[0m\u001b[0m\n\u001b[0;32m      2\u001b[0m     \u001b[0mlist_sum\u001b[0m \u001b[1;33m=\u001b[0m \u001b[0msum_list\u001b[0m\u001b[1;33m(\u001b[0m\u001b[0minput_list\u001b[0m\u001b[1;33m)\u001b[0m\u001b[1;33m\u001b[0m\u001b[1;33m\u001b[0m\u001b[0m\n\u001b[1;32m----> 3\u001b[1;33m     \u001b[0mlist_length\u001b[0m \u001b[1;33m=\u001b[0m \u001b[0mleng_list\u001b[0m\u001b[1;33m(\u001b[0m\u001b[0minput_list\u001b[0m\u001b[1;33m)\u001b[0m\u001b[1;33m\u001b[0m\u001b[1;33m\u001b[0m\u001b[0m\n\u001b[0m\u001b[0;32m      4\u001b[0m     \u001b[0mlist_avg\u001b[0m \u001b[1;33m=\u001b[0m \u001b[0mlist_sum\u001b[0m\u001b[1;33m/\u001b[0m\u001b[0mlist_length\u001b[0m\u001b[1;33m\u001b[0m\u001b[1;33m\u001b[0m\u001b[0m\n\u001b[0;32m      5\u001b[0m     \u001b[1;32mreturn\u001b[0m \u001b[0mlist_avg\u001b[0m\u001b[1;33m\u001b[0m\u001b[1;33m\u001b[0m\u001b[0m\n",
      "\u001b[1;31mNameError\u001b[0m: name 'leng_list' is not defined"
     ]
    }
   ],
   "source": [
    "list1 = [12,3,43,6,23,67,87,38,33]\n",
    "avg_list1 = mean_list(list1)\n",
    "print(avg_list1)"
   ]
  },
  {
   "cell_type": "markdown",
   "id": "ac1f35af",
   "metadata": {},
   "source": [
    "From the given dataset write a function that\n",
    "-> calculates the percentage of given student.\n",
    "-> Use one function to calculate the full marks of the student.\n",
    "-> Another function to calculate the obtained marks of the student.\n",
    "-> And create a third function that would calculate the percentage of the given student.\n",
    "-> Don't forget to use function inside a function we just read above."
   ]
  },
  {
   "cell_type": "code",
   "execution_count": 9,
   "id": "b309430b",
   "metadata": {},
   "outputs": [],
   "source": [
    "header = ['Subject', 'FM', 'PM', 'OM']\n",
    "score1 = ['English', '75', '32', '63']\n",
    "score2 = ['Nepali', '100', '40', '74']\n",
    "score3 = ['Social', '100', '40', '76']\n",
    "score4 = ['Science', '75', '32', '68']\n",
    "score5 = ['C.Math', '100', '40', '93']\n",
    "score6 = ['Opt.Math', '100', '40', '91']\n",
    "score7 = ['E.H.P', '75', '32', '61']\n",
    "score8 = ['Account', '75', '32', '58']\n",
    "score9 = ['Economic', '75', '32', '57']\n",
    "score10 = ['Computer', '75', '32', '71']\n",
    "\n",
    "score_dataset = [header, score1, score2, score3, score4, score5, \n",
    "                score6, score7, score8, score9, score10]"
   ]
  },
  {
   "cell_type": "code",
   "execution_count": 13,
   "id": "62ae7a78",
   "metadata": {},
   "outputs": [],
   "source": [
    "def addition_om(index1):\n",
    "    addition_om = 0\n",
    "    for item in score_dataset[1:]:\n",
    "        addition_om += int(item[index1])\n",
    "    return addition_om"
   ]
  },
  {
   "cell_type": "code",
   "execution_count": 14,
   "id": "5402b5b3",
   "metadata": {},
   "outputs": [],
   "source": [
    "def addition_fm(index2):\n",
    "    addition_fm = 0\n",
    "    for item in score_dataset[1:]:\n",
    "        addition_fm += int(item[index2])\n",
    "    return addition_fm"
   ]
  },
  {
   "cell_type": "code",
   "execution_count": 20,
   "id": "0765f823",
   "metadata": {},
   "outputs": [],
   "source": [
    "def percentage(index1, index2):\n",
    "    om = addition_om(index1)\n",
    "    fm = addition_fm(index2)\n",
    "    result = om/fm\n",
    "    return (result*100)"
   ]
  },
  {
   "cell_type": "code",
   "execution_count": 21,
   "id": "5c22e9ee",
   "metadata": {},
   "outputs": [
    {
     "name": "stdout",
     "output_type": "stream",
     "text": [
      "83.76470588235294\n"
     ]
    }
   ],
   "source": [
    "percent = percentage(index1 = -1, index2 = 1)\n",
    "print(percent)"
   ]
  },
  {
   "cell_type": "markdown",
   "id": "4c3d9e86",
   "metadata": {},
   "source": [
    "using the same function for counting both obtained and full marks"
   ]
  },
  {
   "cell_type": "code",
   "execution_count": 17,
   "id": "c9a69d1e",
   "metadata": {},
   "outputs": [],
   "source": [
    "def total(index):\n",
    "    addition = 0\n",
    "    for item in score_dataset[1:]:\n",
    "        addition += int(item[index])\n",
    "    return addition  "
   ]
  },
  {
   "cell_type": "code",
   "execution_count": 18,
   "id": "76200d19",
   "metadata": {},
   "outputs": [],
   "source": [
    "def percentage(index1, index2):\n",
    "    om = total(index1)\n",
    "    fm = total(index2)\n",
    "    result = om/fm\n",
    "    return (result*100)"
   ]
  },
  {
   "cell_type": "code",
   "execution_count": 19,
   "id": "a9b5ad64",
   "metadata": {},
   "outputs": [
    {
     "name": "stdout",
     "output_type": "stream",
     "text": [
      "83.76470588235294\n"
     ]
    }
   ],
   "source": [
    "percent = percentage(index1 = -1, index2 = 1)\n",
    "print(percent)"
   ]
  },
  {
   "cell_type": "raw",
   "id": "a6240aa6",
   "metadata": {},
   "source": [
    "Pallindrome check\n",
    "A palindrome is a word, phrase, or sequence that is the same spelled forward as it is backwards.\n",
    "Examples are:\n",
    "-> radar\n",
    "-> was it a car or a cat i saw"
   ]
  },
  {
   "cell_type": "code",
   "execution_count": 23,
   "id": "88cdb789",
   "metadata": {},
   "outputs": [
    {
     "name": "stdout",
     "output_type": "stream",
     "text": [
      "wasitacaroracatisaw\n"
     ]
    }
   ],
   "source": [
    "string = \"was it a car or a cat i saw\"\n",
    "final_string = string.replace(\" \", \"\")\n",
    "print(final_string)"
   ]
  },
  {
   "cell_type": "code",
   "execution_count": 27,
   "id": "073cac55",
   "metadata": {},
   "outputs": [
    {
     "name": "stdout",
     "output_type": "stream",
     "text": [
      "wasitacaroracatisaw\n"
     ]
    }
   ],
   "source": [
    "reversed_string = ''.join(reversed(final_string))\n",
    "print(reversed_string)"
   ]
  },
  {
   "cell_type": "code",
   "execution_count": 28,
   "id": "78dc4105",
   "metadata": {},
   "outputs": [],
   "source": [
    "def checkpalindrome(string):\n",
    "    final_string = string.replace(\" \", \"\")\n",
    "    reversed_string = \"\".join(reversed(final_string))\n",
    "    if final_string == reversed_string:\n",
    "        print(\"is palindrome\")\n",
    "    else:\n",
    "        print(\"not palindrome\")"
   ]
  },
  {
   "cell_type": "code",
   "execution_count": 34,
   "id": "4fc23c79",
   "metadata": {},
   "outputs": [
    {
     "name": "stdout",
     "output_type": "stream",
     "text": [
      "is palindrome\n"
     ]
    }
   ],
   "source": [
    "checkpalindrome(string=\"radar\")"
   ]
  },
  {
   "cell_type": "code",
   "execution_count": 35,
   "id": "7fa58a7f",
   "metadata": {},
   "outputs": [
    {
     "name": "stdout",
     "output_type": "stream",
     "text": [
      "is palindrome\n"
     ]
    }
   ],
   "source": [
    "checkpalindrome(string=\"was it a car or a cat i saw\")"
   ]
  },
  {
   "cell_type": "code",
   "execution_count": 37,
   "id": "fd2dc219",
   "metadata": {},
   "outputs": [
    {
     "name": "stdout",
     "output_type": "stream",
     "text": [
      "is palindrome\n"
     ]
    }
   ],
   "source": [
    "checkpalindrome(string=\"dogod\")"
   ]
  },
  {
   "cell_type": "code",
   "execution_count": 47,
   "id": "9acabd2b",
   "metadata": {},
   "outputs": [],
   "source": [
    "def checkPalindrome(string):\n",
    "    final_string = string.replace(\" \", \"\")\n",
    "    r_string = \"\"\n",
    "    for i in range(-1,-len(string)-1,-1):\n",
    "        r_string += final_string[i]\n",
    "    if final_string == reversed_string:\n",
    "        print(\"is palindrome\")\n",
    "    else:\n",
    "        print(\"not palindrome\")\n"
   ]
  },
  {
   "cell_type": "code",
   "execution_count": 48,
   "id": "eb4b0e20",
   "metadata": {},
   "outputs": [
    {
     "name": "stdout",
     "output_type": "stream",
     "text": [
      "is palindrome\n"
     ]
    }
   ],
   "source": [
    "checkpalindrome(string=\"radar\")"
   ]
  },
  {
   "cell_type": "code",
   "execution_count": 49,
   "id": "00031ecd",
   "metadata": {},
   "outputs": [
    {
     "name": "stdout",
     "output_type": "stream",
     "text": [
      "not palindrome\n"
     ]
    }
   ],
   "source": [
    "checkpalindrome(string=\"radarm\")"
   ]
  },
  {
   "cell_type": "raw",
   "id": "da1ed922",
   "metadata": {},
   "source": [
    "Create a function to convert the following list into a dictionary like this:\n",
    "Given list:\n",
    "\n",
    "item = ['duns_id', 'DUNS', 'company_id', 'Company_Id', 'company_name', 'Company_Name', 'product_id', 'Product_Id', 'product_name', 'Product_Name', 'country', 'Country']\n",
    "\n",
    "Dictionary like this:\n",
    "\n",
    "item = {\"duns_id\" : 'DUNS','company_id' : 'Company_Id', 'company_name' : 'Company_Name', 'product_id' : 'Product_Id', 'product_name' : 'Product_Name', 'country' : 'Country'}"
   ]
  },
  {
   "cell_type": "code",
   "execution_count": 50,
   "id": "3199cc18",
   "metadata": {},
   "outputs": [],
   "source": [
    "item = ['duns_id', 'DUNS', 'company_id', 'Company_Id', 'company_name', 'Company_Name', 'product_id', 'Product_Id',\n",
    "       'product_name', 'Product_Name', 'country', 'Country']"
   ]
  },
  {
   "cell_type": "code",
   "execution_count": 52,
   "id": "b08dc9f8",
   "metadata": {},
   "outputs": [
    {
     "name": "stdout",
     "output_type": "stream",
     "text": [
      "['duns_id', 'DUNS', 'company_id', 'Company_Id', 'company_name', 'Company_Name', 'product_id', 'Product_Id', 'product_name', 'Product_Name', 'country', 'Country']\n",
      "12\n"
     ]
    }
   ],
   "source": [
    "print(item)\n",
    "print(len(item))"
   ]
  },
  {
   "cell_type": "code",
   "execution_count": 70,
   "id": "e6ed8d74",
   "metadata": {},
   "outputs": [],
   "source": [
    "def getKeys(list):\n",
    "    itemDict = {}\n",
    "    for i in range(0,len(list), 2):\n",
    "        itemDict[list[i]] = list[i + 1]\n",
    "    print(itemDict) "
   ]
  },
  {
   "cell_type": "code",
   "execution_count": 75,
   "id": "035608d4",
   "metadata": {},
   "outputs": [
    {
     "name": "stdout",
     "output_type": "stream",
     "text": [
      "{'duns_id': 'DUNS', 'company_id': 'Company_Id', 'company_name': 'Company_Name', 'product_id': 'Product_Id', 'product_name': 'Product_Name', 'country': 'Country'}\n",
      "None\n"
     ]
    }
   ],
   "source": [
    "# getKeys(list = item1)\n",
    "dict2 = getKeys(item)\n",
    "print(dict2)"
   ]
  },
  {
   "cell_type": "code",
   "execution_count": 58,
   "id": "03d11fde",
   "metadata": {},
   "outputs": [
    {
     "name": "stdout",
     "output_type": "stream",
     "text": [
      "1\n",
      "3\n",
      "5\n",
      "7\n",
      "9\n",
      "11\n"
     ]
    }
   ],
   "source": [
    "for i in range(1,len(item), 2):\n",
    "    print (i)"
   ]
  },
  {
   "cell_type": "markdown",
   "id": "6ba68319",
   "metadata": {},
   "source": [
    "making dictionary by taking keys and values from two different lists"
   ]
  },
  {
   "cell_type": "code",
   "execution_count": 85,
   "id": "231c94f7",
   "metadata": {},
   "outputs": [
    {
     "ename": "AttributeError",
     "evalue": "'NoneType' object has no attribute 'keys'",
     "output_type": "error",
     "traceback": [
      "\u001b[1;31m---------------------------------------------------------------------------\u001b[0m",
      "\u001b[1;31mAttributeError\u001b[0m                            Traceback (most recent call last)",
      "\u001b[1;32m~\\AppData\\Local\\Temp\\ipykernel_12236\\1376351191.py\u001b[0m in \u001b[0;36m<module>\u001b[1;34m\u001b[0m\n\u001b[1;32m----> 1\u001b[1;33m \u001b[0ml1\u001b[0m \u001b[1;33m=\u001b[0m \u001b[0mlist\u001b[0m\u001b[1;33m(\u001b[0m\u001b[0mdict2\u001b[0m\u001b[1;33m.\u001b[0m\u001b[0mkeys\u001b[0m\u001b[1;33m(\u001b[0m\u001b[1;33m)\u001b[0m\u001b[1;33m)\u001b[0m\u001b[1;33m\u001b[0m\u001b[1;33m\u001b[0m\u001b[0m\n\u001b[0m\u001b[0;32m      2\u001b[0m \u001b[0mprint\u001b[0m\u001b[1;33m(\u001b[0m\u001b[0ml1\u001b[0m\u001b[1;33m)\u001b[0m\u001b[1;33m\u001b[0m\u001b[1;33m\u001b[0m\u001b[0m\n",
      "\u001b[1;31mAttributeError\u001b[0m: 'NoneType' object has no attribute 'keys'"
     ]
    }
   ],
   "source": [
    "l1 = list(dict2.keys())\n",
    "print(l1)"
   ]
  },
  {
   "cell_type": "code",
   "execution_count": 81,
   "id": "d79f9704",
   "metadata": {},
   "outputs": [],
   "source": [
    "list1 = ['qw', 'wq', 'wq', 'wq']\n",
    "list2 = ['dwd', 'wqd', 'adwd', 'dawd']"
   ]
  },
  {
   "cell_type": "code",
   "execution_count": 86,
   "id": "caafe279",
   "metadata": {},
   "outputs": [],
   "source": [
    "def comDict(l1, l2):\n",
    "    dict3 = {}\n",
    "    for i in range(len(list1)):\n",
    "        dict3[list1[i]] = list2[i]\n",
    "    return dict3\n",
    "        "
   ]
  },
  {
   "cell_type": "code",
   "execution_count": 87,
   "id": "5356f547",
   "metadata": {},
   "outputs": [
    {
     "name": "stdout",
     "output_type": "stream",
     "text": [
      "{'qw': 'dwd', 'wq': 'dawd'}\n"
     ]
    }
   ],
   "source": [
    "dict4 = comDict(list1, list2)\n",
    "print(dict4)"
   ]
  },
  {
   "cell_type": "code",
   "execution_count": null,
   "id": "557567f7",
   "metadata": {},
   "outputs": [],
   "source": []
  }
 ],
 "metadata": {
  "kernelspec": {
   "display_name": "Python 3 (ipykernel)",
   "language": "python",
   "name": "python3"
  },
  "language_info": {
   "codemirror_mode": {
    "name": "ipython",
    "version": 3
   },
   "file_extension": ".py",
   "mimetype": "text/x-python",
   "name": "python",
   "nbconvert_exporter": "python",
   "pygments_lexer": "ipython3",
   "version": "3.9.13"
  }
 },
 "nbformat": 4,
 "nbformat_minor": 5
}
