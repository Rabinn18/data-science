{
 "cells": [
  {
   "cell_type": "markdown",
   "id": "fa28b947",
   "metadata": {},
   "source": [
    "#### Writing my first python program"
   ]
  },
  {
   "cell_type": "code",
   "execution_count": 1,
   "id": "8c2ededc",
   "metadata": {},
   "outputs": [
    {
     "name": "stdout",
     "output_type": "stream",
     "text": [
      "Data Science\n"
     ]
    }
   ],
   "source": [
    "print(\"Data Science\")"
   ]
  },
  {
   "cell_type": "code",
   "execution_count": 2,
   "id": "4c20ed89",
   "metadata": {},
   "outputs": [
    {
     "name": "stdout",
     "output_type": "stream",
     "text": [
      "1\n"
     ]
    }
   ],
   "source": [
    "print (1\n",
    "      )"
   ]
  },
  {
   "cell_type": "markdown",
   "id": "2441a7fe",
   "metadata": {},
   "source": [
    "print (\"sdfsdfsdfsd\")"
   ]
  },
  {
   "cell_type": "code",
   "execution_count": 3,
   "id": "d6e069f7",
   "metadata": {},
   "outputs": [
    {
     "name": "stdout",
     "output_type": "stream",
     "text": [
      "10\n"
     ]
    }
   ],
   "source": [
    "x= 5;\n",
    "y=10;\n",
    "x= x +y;\n",
    "print(y)"
   ]
  },
  {
   "cell_type": "code",
   "execution_count": 4,
   "id": "53c8118c",
   "metadata": {},
   "outputs": [
    {
     "name": "stdout",
     "output_type": "stream",
     "text": [
      "15\n"
     ]
    }
   ],
   "source": [
    "x= 5;\n",
    "y=10;\n",
    "x= x +y;\n",
    "print(x\n",
    "     )"
   ]
  },
  {
   "cell_type": "code",
   "execution_count": 5,
   "id": "dda3bbe7",
   "metadata": {},
   "outputs": [
    {
     "name": "stdout",
     "output_type": "stream",
     "text": [
      "2.0\n"
     ]
    }
   ],
   "source": [
    "print(3/1-5+4)"
   ]
  },
  {
   "cell_type": "code",
   "execution_count": null,
   "id": "24be36a2",
   "metadata": {},
   "outputs": [],
   "source": [
    "# print(5**3)"
   ]
  },
  {
   "cell_type": "code",
   "execution_count": 6,
   "id": "214ef758",
   "metadata": {},
   "outputs": [
    {
     "name": "stdout",
     "output_type": "stream",
     "text": [
      "125\n"
     ]
    }
   ],
   "source": [
    "print(5**3\n",
    "     )"
   ]
  },
  {
   "cell_type": "code",
   "execution_count": 11,
   "id": "295ce80f",
   "metadata": {},
   "outputs": [],
   "source": [
    "import math"
   ]
  },
  {
   "cell_type": "code",
   "execution_count": 12,
   "id": "86af3ed7",
   "metadata": {},
   "outputs": [],
   "source": [
    "# print(sqrt(25))"
   ]
  },
  {
   "cell_type": "code",
   "execution_count": 13,
   "id": "d2c861a4",
   "metadata": {},
   "outputs": [
    {
     "name": "stdout",
     "output_type": "stream",
     "text": [
      "5.0\n"
     ]
    }
   ],
   "source": [
    "print(math.sqrt(25))\n"
   ]
  },
  {
   "cell_type": "code",
   "execution_count": 14,
   "id": "616028df",
   "metadata": {},
   "outputs": [
    {
     "name": "stdout",
     "output_type": "stream",
     "text": [
      "5.0\n"
     ]
    }
   ],
   "source": [
    "print(25**(1/2))"
   ]
  },
  {
   "cell_type": "code",
   "execution_count": null,
   "id": "2383b3b8",
   "metadata": {},
   "outputs": [],
   "source": [
    "#passijng cpmments"
   ]
  },
  {
   "cell_type": "code",
   "execution_count": 16,
   "id": "385864db",
   "metadata": {},
   "outputs": [
    {
     "name": "stdout",
     "output_type": "stream",
     "text": [
      "11.666666666666666\n"
     ]
    }
   ],
   "source": [
    "a=5\n",
    "b=5\n",
    "plus = a+b\n",
    "minus = a-b\n",
    "product = a*b\n",
    "average = (plus+ minus + product)/3\n",
    "print (average)"
   ]
  },
  {
   "cell_type": "code",
   "execution_count": null,
   "id": "052cd353",
   "metadata": {},
   "outputs": [],
   "source": [
    "a = 6\n",
    "print(a)"
   ]
  },
  {
   "cell_type": "code",
   "execution_count": null,
   "id": "bff16756",
   "metadata": {},
   "outputs": [],
   "source": [
    "x= 5;\n",
    "y=10;\n",
    "x= x +y;\n",
    "print(x\n",
    "     )\n"
   ]
  },
  {
   "cell_type": "code",
   "execution_count": 19,
   "id": "79585a12",
   "metadata": {},
   "outputs": [
    {
     "name": "stdout",
     "output_type": "stream",
     "text": [
      "7\n"
     ]
    }
   ],
   "source": [
    "x=3; y=4\n",
    "print(x+y)"
   ]
  },
  {
   "cell_type": "code",
   "execution_count": 20,
   "id": "663e49c0",
   "metadata": {},
   "outputs": [
    {
     "data": {
      "text/plain": [
       "int"
      ]
     },
     "execution_count": 20,
     "metadata": {},
     "output_type": "execute_result"
    }
   ],
   "source": [
    "type(x+y)"
   ]
  },
  {
   "cell_type": "code",
   "execution_count": 21,
   "id": "8edb3dac",
   "metadata": {},
   "outputs": [
    {
     "name": "stdout",
     "output_type": "stream",
     "text": [
      "<class 'int'>\n"
     ]
    }
   ],
   "source": [
    "print(type(x+y))"
   ]
  },
  {
   "cell_type": "code",
   "execution_count": 22,
   "id": "df8fe1b4",
   "metadata": {},
   "outputs": [
    {
     "ename": "SyntaxError",
     "evalue": "invalid syntax (442601976.py, line 1)",
     "output_type": "error",
     "traceback": [
      "\u001b[1;36m  File \u001b[1;32m\"C:\\Users\\rabin\\AppData\\Local\\Temp\\ipykernel_20628\\442601976.py\"\u001b[1;36m, line \u001b[1;32m1\u001b[0m\n\u001b[1;33m    print(type(x+y)_name)\u001b[0m\n\u001b[1;37m                   ^\u001b[0m\n\u001b[1;31mSyntaxError\u001b[0m\u001b[1;31m:\u001b[0m invalid syntax\n"
     ]
    }
   ],
   "source": [
    "print(type(x+y)_name)"
   ]
  },
  {
   "cell_type": "code",
   "execution_count": 23,
   "id": "be891bfe",
   "metadata": {},
   "outputs": [],
   "source": [
    "quantity=0\n",
    "quantity += 1.5"
   ]
  },
  {
   "cell_type": "code",
   "execution_count": 24,
   "id": "069486c0",
   "metadata": {},
   "outputs": [],
   "source": [
    "cost = 6.99\n",
    "cost *= 3"
   ]
  },
  {
   "cell_type": "code",
   "execution_count": 25,
   "id": "dcfdc4a5",
   "metadata": {},
   "outputs": [
    {
     "name": "stdout",
     "output_type": "stream",
     "text": [
      "1.5\n",
      "20.97\n"
     ]
    }
   ],
   "source": [
    "print(quantity)\n",
    "print(cost)"
   ]
  },
  {
   "cell_type": "code",
   "execution_count": null,
   "id": "11e1d213",
   "metadata": {},
   "outputs": [],
   "source": []
  }
 ],
 "metadata": {
  "kernelspec": {
   "display_name": "Python 3 (ipykernel)",
   "language": "python",
   "name": "python3"
  },
  "language_info": {
   "codemirror_mode": {
    "name": "ipython",
    "version": 3
   },
   "file_extension": ".py",
   "mimetype": "text/x-python",
   "name": "python",
   "nbconvert_exporter": "python",
   "pygments_lexer": "ipython3",
   "version": "3.9.13"
  }
 },
 "nbformat": 4,
 "nbformat_minor": 5
}
