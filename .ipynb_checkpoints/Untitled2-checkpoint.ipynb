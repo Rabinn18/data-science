{
 "cells": [
  {
   "cell_type": "markdown",
   "id": "f3bd964d",
   "metadata": {},
   "source": [
    "# Modules"
   ]
  },
  {
   "cell_type": "raw",
   "id": "9de2a3dc",
   "metadata": {},
   "source": [
    "-> In Python, Modules are simply files with the “. py” extension containing Python code that can be imported inside another Python Program.\n",
    "-> In simple terms, we can say a module as a file containing a set of functions we want to include in our application.\n",
    "-> We can use the function defined in another python file to our existing python file by using import keyword."
   ]
  },
  {
   "cell_type": "code",
   "execution_count": 2,
   "id": "d2507913",
   "metadata": {},
   "outputs": [],
   "source": [
    "def addition (a,b):\n",
    "    result= a+b\n",
    "    return result"
   ]
  },
  {
   "cell_type": "markdown",
   "id": "b411d161",
   "metadata": {},
   "source": [
    "Question: There are 10 elements in a list. Write a function that calculates the sum of items with even index and odd index separately and check which one is bigger and calculate the margin by which one is bigger than other."
   ]
  },
  {
   "cell_type": "code",
   "execution_count": 14,
   "id": "c322a06d",
   "metadata": {},
   "outputs": [],
   "source": [
    "list = [12, 23,57,21,87,43,89,34,11,64]"
   ]
  },
  {
   "cell_type": "code",
   "execution_count": 15,
   "id": "f033aba7",
   "metadata": {},
   "outputs": [
    {
     "name": "stdout",
     "output_type": "stream",
     "text": [
      "10\n"
     ]
    }
   ],
   "source": [
    "print(len(list))"
   ]
  },
  {
   "cell_type": "code",
   "execution_count": null,
   "id": "ffd0ce24",
   "metadata": {},
   "outputs": [],
   "source": [
    "\n"
   ]
  },
  {
   "cell_type": "code",
   "execution_count": 36,
   "id": "ca0b7482",
   "metadata": {},
   "outputs": [],
   "source": [
    "def cal_margin(inputList):\n",
    "    even = 0\n",
    "    odd = 0\n",
    "    for i in range(0, len(inputList), 2):\n",
    "        even += inputList[i]\n",
    "    for i in range(1, len(inputList), 2):\n",
    "        odd += inputList[i]\n",
    "    if (even>odd):\n",
    "        print (\"even is greater by {}\".format(even-odd))\n",
    "    elif (even<odd):\n",
    "        print (\"odd is greater by {}\".format(even-odd))\n",
    "    else:\n",
    "        print(\"both are equal\")\n",
    "    return "
   ]
  },
  {
   "cell_type": "code",
   "execution_count": 37,
   "id": "7774790e",
   "metadata": {},
   "outputs": [],
   "source": [
    "\n",
    "# for i in range(0, len(list), 2):\n",
    "#     even += list[i]\n",
    "# print(even)\n",
    "# for i in range(1, len(list), 2):\n",
    "#     odd += list[i]\n",
    "# print(odd)"
   ]
  },
  {
   "cell_type": "code",
   "execution_count": 38,
   "id": "6305464e",
   "metadata": {},
   "outputs": [
    {
     "name": "stdout",
     "output_type": "stream",
     "text": [
      "even is greater by 71\n",
      "None\n"
     ]
    }
   ],
   "source": [
    "margin = cal_margin(list)\n",
    "print(margin)"
   ]
  },
  {
   "cell_type": "markdown",
   "id": "e80352b5",
   "metadata": {},
   "source": [
    "# working with OS"
   ]
  },
  {
   "cell_type": "code",
   "execution_count": 25,
   "id": "3673cf2a",
   "metadata": {},
   "outputs": [],
   "source": [
    "import os"
   ]
  },
  {
   "cell_type": "code",
   "execution_count": 26,
   "id": "bcf896d7",
   "metadata": {},
   "outputs": [
    {
     "data": {
      "text/plain": [
       "'Z:\\\\pythonInstallation\\\\training'"
      ]
     },
     "execution_count": 26,
     "metadata": {},
     "output_type": "execute_result"
    }
   ],
   "source": [
    "os.getcwd()"
   ]
  },
  {
   "cell_type": "code",
   "execution_count": 49,
   "id": "48d87519",
   "metadata": {},
   "outputs": [
    {
     "data": {
      "text/plain": [
       "['.ipynb_checkpoints',\n",
       " 'Datasets',\n",
       " 'function.py',\n",
       " 'main.py',\n",
       " 'rabin',\n",
       " 'start.py',\n",
       " 'Untitled.ipynb',\n",
       " 'Untitled1.ipynb',\n",
       " 'Untitled2.ipynb',\n",
       " '__pycache__']"
      ]
     },
     "execution_count": 49,
     "metadata": {},
     "output_type": "execute_result"
    }
   ],
   "source": [
    "os.listdir()"
   ]
  },
  {
   "cell_type": "code",
   "execution_count": 39,
   "id": "cc4da58b",
   "metadata": {},
   "outputs": [
    {
     "data": {
      "text/plain": [
       "['dataset.py', 'studentDataset.py', '__pycache__']"
      ]
     },
     "execution_count": 39,
     "metadata": {},
     "output_type": "execute_result"
    }
   ],
   "source": [
    "os.listdir('Datasets')"
   ]
  },
  {
   "cell_type": "code",
   "execution_count": 40,
   "id": "ed5c4335",
   "metadata": {},
   "outputs": [],
   "source": [
    "os.mkdir('demoFolder')"
   ]
  },
  {
   "cell_type": "code",
   "execution_count": 42,
   "id": "7f8324c9",
   "metadata": {},
   "outputs": [],
   "source": [
    "os.rename('demoFolder', \"klfnkal\")"
   ]
  },
  {
   "cell_type": "code",
   "execution_count": 48,
   "id": "a746f96d",
   "metadata": {},
   "outputs": [],
   "source": [
    "os.rmdir('klfnkal')"
   ]
  },
  {
   "cell_type": "code",
   "execution_count": 50,
   "id": "ee5bc5b0",
   "metadata": {},
   "outputs": [],
   "source": [
    "os.mkdir('demoFolder')"
   ]
  },
  {
   "cell_type": "code",
   "execution_count": 51,
   "id": "d8946b7f",
   "metadata": {},
   "outputs": [
    {
     "data": {
      "text/plain": [
       "['.ipynb_checkpoints',\n",
       " 'Datasets',\n",
       " 'demoFolder',\n",
       " 'function.py',\n",
       " 'main.py',\n",
       " 'rabin',\n",
       " 'start.py',\n",
       " 'Untitled.ipynb',\n",
       " 'Untitled1.ipynb',\n",
       " 'Untitled2.ipynb',\n",
       " '__pycache__']"
      ]
     },
     "execution_count": 51,
     "metadata": {},
     "output_type": "execute_result"
    }
   ],
   "source": [
    "os.listdir()"
   ]
  },
  {
   "cell_type": "code",
   "execution_count": 52,
   "id": "893f75bf",
   "metadata": {},
   "outputs": [],
   "source": [
    "os.mkdir('demoFolder/demo.txt')"
   ]
  },
  {
   "cell_type": "code",
   "execution_count": 53,
   "id": "658ae15b",
   "metadata": {},
   "outputs": [
    {
     "data": {
      "text/plain": [
       "['demo.txt']"
      ]
     },
     "execution_count": 53,
     "metadata": {},
     "output_type": "execute_result"
    }
   ],
   "source": [
    "os.listdir('demoFolder')"
   ]
  },
  {
   "cell_type": "code",
   "execution_count": 54,
   "id": "46c9201d",
   "metadata": {},
   "outputs": [
    {
     "ename": "OSError",
     "evalue": "[WinError 145] The directory is not empty: 'demoFolder'",
     "output_type": "error",
     "traceback": [
      "\u001b[1;31m---------------------------------------------------------------------------\u001b[0m",
      "\u001b[1;31mOSError\u001b[0m                                   Traceback (most recent call last)",
      "\u001b[1;32m~\\AppData\\Local\\Temp\\ipykernel_9572\\2439756477.py\u001b[0m in \u001b[0;36m<module>\u001b[1;34m\u001b[0m\n\u001b[1;32m----> 1\u001b[1;33m \u001b[0mos\u001b[0m\u001b[1;33m.\u001b[0m\u001b[0mrmdir\u001b[0m\u001b[1;33m(\u001b[0m\u001b[1;34m'demoFolder'\u001b[0m\u001b[1;33m)\u001b[0m\u001b[1;33m\u001b[0m\u001b[1;33m\u001b[0m\u001b[0m\n\u001b[0m",
      "\u001b[1;31mOSError\u001b[0m: [WinError 145] The directory is not empty: 'demoFolder'"
     ]
    }
   ],
   "source": [
    "os.rmdir('demoFolder')"
   ]
  },
  {
   "cell_type": "code",
   "execution_count": 55,
   "id": "b752aa13",
   "metadata": {},
   "outputs": [],
   "source": [
    "os.rmdir('demoFolder/demo.txt')"
   ]
  },
  {
   "cell_type": "code",
   "execution_count": 56,
   "id": "076bb3c1",
   "metadata": {},
   "outputs": [
    {
     "data": {
      "text/plain": [
       "['.ipynb_checkpoints',\n",
       " 'Datasets',\n",
       " 'demoFolder',\n",
       " 'function.py',\n",
       " 'main.py',\n",
       " 'rabin',\n",
       " 'start.py',\n",
       " 'Untitled.ipynb',\n",
       " 'Untitled1.ipynb',\n",
       " 'Untitled2.ipynb',\n",
       " '__pycache__']"
      ]
     },
     "execution_count": 56,
     "metadata": {},
     "output_type": "execute_result"
    }
   ],
   "source": [
    "os.listdir()"
   ]
  },
  {
   "cell_type": "code",
   "execution_count": 57,
   "id": "f6f888b6",
   "metadata": {},
   "outputs": [],
   "source": [
    "os.rmdir(\"demoFolder\")"
   ]
  },
  {
   "cell_type": "code",
   "execution_count": 58,
   "id": "2cacb3eb",
   "metadata": {},
   "outputs": [
    {
     "data": {
      "text/plain": [
       "['.ipynb_checkpoints',\n",
       " 'Datasets',\n",
       " 'function.py',\n",
       " 'main.py',\n",
       " 'rabin',\n",
       " 'start.py',\n",
       " 'Untitled.ipynb',\n",
       " 'Untitled1.ipynb',\n",
       " 'Untitled2.ipynb',\n",
       " '__pycache__']"
      ]
     },
     "execution_count": 58,
     "metadata": {},
     "output_type": "execute_result"
    }
   ],
   "source": [
    "os.listdir()"
   ]
  },
  {
   "cell_type": "code",
   "execution_count": 59,
   "id": "a439190d",
   "metadata": {},
   "outputs": [
    {
     "ename": "FileNotFoundError",
     "evalue": "[WinError 2] The system cannot find the file specified: 'demoFolder'",
     "output_type": "error",
     "traceback": [
      "\u001b[1;31m---------------------------------------------------------------------------\u001b[0m",
      "\u001b[1;31mFileNotFoundError\u001b[0m                         Traceback (most recent call last)",
      "\u001b[1;32m~\\AppData\\Local\\Temp\\ipykernel_9572\\2439756477.py\u001b[0m in \u001b[0;36m<module>\u001b[1;34m\u001b[0m\n\u001b[1;32m----> 1\u001b[1;33m \u001b[0mos\u001b[0m\u001b[1;33m.\u001b[0m\u001b[0mrmdir\u001b[0m\u001b[1;33m(\u001b[0m\u001b[1;34m'demoFolder'\u001b[0m\u001b[1;33m)\u001b[0m\u001b[1;33m\u001b[0m\u001b[1;33m\u001b[0m\u001b[0m\n\u001b[0m",
      "\u001b[1;31mFileNotFoundError\u001b[0m: [WinError 2] The system cannot find the file specified: 'demoFolder'"
     ]
    }
   ],
   "source": [
    "os.rmdir('demoFolder')"
   ]
  },
  {
   "cell_type": "code",
   "execution_count": 60,
   "id": "8b125e50",
   "metadata": {},
   "outputs": [],
   "source": [
    "os.mkdir('demoFolder')"
   ]
  },
  {
   "cell_type": "code",
   "execution_count": 61,
   "id": "a595673f",
   "metadata": {},
   "outputs": [],
   "source": [
    "os.mkdir('demoFolder/demo.txt')"
   ]
  },
  {
   "cell_type": "code",
   "execution_count": 62,
   "id": "28ac1168",
   "metadata": {},
   "outputs": [
    {
     "data": {
      "text/plain": [
       "['demo.txt']"
      ]
     },
     "execution_count": 62,
     "metadata": {},
     "output_type": "execute_result"
    }
   ],
   "source": [
    "os.listdir('demoFolder')"
   ]
  },
  {
   "cell_type": "code",
   "execution_count": 63,
   "id": "dc69be74",
   "metadata": {},
   "outputs": [
    {
     "ename": "PermissionError",
     "evalue": "[WinError 5] Access is denied: 'demoFolder/demo.txt'",
     "output_type": "error",
     "traceback": [
      "\u001b[1;31m---------------------------------------------------------------------------\u001b[0m",
      "\u001b[1;31mPermissionError\u001b[0m                           Traceback (most recent call last)",
      "\u001b[1;32m~\\AppData\\Local\\Temp\\ipykernel_9572\\3674445981.py\u001b[0m in \u001b[0;36m<module>\u001b[1;34m\u001b[0m\n\u001b[1;32m----> 1\u001b[1;33m \u001b[0mos\u001b[0m\u001b[1;33m.\u001b[0m\u001b[0mremove\u001b[0m\u001b[1;33m(\u001b[0m\u001b[1;34m'demoFolder/demo.txt'\u001b[0m\u001b[1;33m)\u001b[0m\u001b[1;33m\u001b[0m\u001b[1;33m\u001b[0m\u001b[0m\n\u001b[0m",
      "\u001b[1;31mPermissionError\u001b[0m: [WinError 5] Access is denied: 'demoFolder/demo.txt'"
     ]
    }
   ],
   "source": [
    "os.remove('demoFolder/demo.txt')"
   ]
  },
  {
   "cell_type": "code",
   "execution_count": 64,
   "id": "fbd2e966",
   "metadata": {},
   "outputs": [
    {
     "data": {
      "text/plain": [
       "True"
      ]
     },
     "execution_count": 64,
     "metadata": {},
     "output_type": "execute_result"
    }
   ],
   "source": [
    "os.path.exists('demoFolder')"
   ]
  },
  {
   "cell_type": "code",
   "execution_count": 65,
   "id": "5c88f9eb",
   "metadata": {},
   "outputs": [
    {
     "data": {
      "text/plain": [
       "True"
      ]
     },
     "execution_count": 65,
     "metadata": {},
     "output_type": "execute_result"
    }
   ],
   "source": [
    "os.path.exists('demoFolder/demo.txt')"
   ]
  },
  {
   "cell_type": "code",
   "execution_count": 66,
   "id": "a6f6cd00",
   "metadata": {},
   "outputs": [
    {
     "data": {
      "text/plain": [
       "False"
      ]
     },
     "execution_count": 66,
     "metadata": {},
     "output_type": "execute_result"
    }
   ],
   "source": [
    "os.path.exists('demoFolder/dd.txt')"
   ]
  },
  {
   "cell_type": "code",
   "execution_count": 70,
   "id": "f383558e",
   "metadata": {},
   "outputs": [],
   "source": [
    "if os.path.exists('demoFolder2'):\n",
    "    pass\n",
    "else:\n",
    "    os.mkdir('demoFolder2')"
   ]
  },
  {
   "cell_type": "code",
   "execution_count": 71,
   "id": "62728256",
   "metadata": {},
   "outputs": [
    {
     "data": {
      "text/plain": [
       "['.ipynb_checkpoints',\n",
       " 'Datasets',\n",
       " 'demoFolder',\n",
       " 'demoFolder2',\n",
       " 'function.py',\n",
       " 'main.py',\n",
       " 'rabin',\n",
       " 'start.py',\n",
       " 'Untitled.ipynb',\n",
       " 'Untitled1.ipynb',\n",
       " 'Untitled2.ipynb',\n",
       " '__pycache__']"
      ]
     },
     "execution_count": 71,
     "metadata": {},
     "output_type": "execute_result"
    }
   ],
   "source": [
    "os.listdir()"
   ]
  },
  {
   "cell_type": "code",
   "execution_count": 72,
   "id": "fc7a67d9",
   "metadata": {},
   "outputs": [
    {
     "data": {
      "text/plain": [
       "'Z:\\\\pythonInstallation\\\\training\\\\training'"
      ]
     },
     "execution_count": 72,
     "metadata": {},
     "output_type": "execute_result"
    }
   ],
   "source": [
    "os.path.abspath('training')"
   ]
  },
  {
   "cell_type": "code",
   "execution_count": null,
   "id": "ddfd2547",
   "metadata": {},
   "outputs": [],
   "source": []
  }
 ],
 "metadata": {
  "kernelspec": {
   "display_name": "Python 3 (ipykernel)",
   "language": "python",
   "name": "python3"
  },
  "language_info": {
   "codemirror_mode": {
    "name": "ipython",
    "version": 3
   },
   "file_extension": ".py",
   "mimetype": "text/x-python",
   "name": "python",
   "nbconvert_exporter": "python",
   "pygments_lexer": "ipython3",
   "version": "3.9.13"
  }
 },
 "nbformat": 4,
 "nbformat_minor": 5
}
