{
 "cells": [
  {
   "cell_type": "markdown",
   "id": "3bfffb4b",
   "metadata": {},
   "source": [
    "\n",
    "# Working With Datetimes"
   ]
  },
  {
   "cell_type": "code",
   "execution_count": 1,
   "id": "8b05b2ad",
   "metadata": {},
   "outputs": [],
   "source": [
    "from datetime import datetime"
   ]
  },
  {
   "cell_type": "code",
   "execution_count": 2,
   "id": "d6dde128",
   "metadata": {},
   "outputs": [],
   "source": [
    "dtobj = datetime(33,4,5)"
   ]
  },
  {
   "cell_type": "code",
   "execution_count": 3,
   "id": "67e29fed",
   "metadata": {},
   "outputs": [
    {
     "name": "stdout",
     "output_type": "stream",
     "text": [
      "<class 'datetime.datetime'>\n"
     ]
    }
   ],
   "source": [
    "print(type(dtobj))"
   ]
  },
  {
   "cell_type": "code",
   "execution_count": null,
   "id": "37443e20",
   "metadata": {},
   "outputs": [],
   "source": []
  }
 ],
 "metadata": {
  "kernelspec": {
   "display_name": "Python 3 (ipykernel)",
   "language": "python",
   "name": "python3"
  },
  "language_info": {
   "codemirror_mode": {
    "name": "ipython",
    "version": 3
   },
   "file_extension": ".py",
   "mimetype": "text/x-python",
   "name": "python",
   "nbconvert_exporter": "python",
   "pygments_lexer": "ipython3",
   "version": "3.9.13"
  }
 },
 "nbformat": 4,
 "nbformat_minor": 5
}
